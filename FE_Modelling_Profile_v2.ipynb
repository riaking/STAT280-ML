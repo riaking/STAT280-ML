{
 "cells": [
  {
   "cell_type": "markdown",
   "id": "6b99bb61",
   "metadata": {},
   "source": [
    "#### Libraries Installation\n",
    "!pip install outlier_utils\n",
    "!pip install imbalanced-learn \n",
    "!pip install delayed\n",
    "!pip install missingno\n",
    "!pip install plotly\n",
    "!pip install lightgbm\n",
    "!pip install xgboost\n",
    "!pip install category_encoders\n",
    "!pip install shap"
   ]
  },
  {
   "cell_type": "code",
   "execution_count": 1,
   "id": "a0018d0a",
   "metadata": {},
   "outputs": [],
   "source": [
    "import pandas as pd\n",
    "import numpy as np\n",
    "import matplotlib.pyplot as plt\n",
    "import seaborn as sns\n",
    "\n",
    "import warnings\n",
    "warnings.filterwarnings('ignore')\n",
    "\n",
    "# allows us to implement a train test split strategy\n",
    "from sklearn.model_selection import train_test_split\n",
    "\n",
    "# access to the logistic regression class of Sklearn\n",
    "from sklearn.linear_model import LogisticRegression\n",
    "\n",
    "# access to the neural network model MLP Classifier\n",
    "from sklearn.neural_network import MLPClassifier\n",
    "\n",
    "# classification metrics\n",
    "from sklearn import metrics\n",
    "from sklearn.metrics import accuracy_score\n",
    "from sklearn.metrics import confusion_matrix\n",
    "from sklearn.metrics import precision_score\n",
    "from sklearn.metrics import recall_score\n",
    "from sklearn.metrics import auc\n",
    "from sklearn.metrics import RocCurveDisplay\n",
    "from sklearn.metrics import roc_curve\n",
    "from sklearn.metrics import roc_auc_score"
   ]
  },
  {
   "cell_type": "markdown",
   "id": "8660cd5e",
   "metadata": {},
   "source": [
    "## TRAIN TEST SPLIT"
   ]
  },
  {
   "cell_type": "code",
   "execution_count": 2,
   "id": "01e681c4",
   "metadata": {},
   "outputs": [],
   "source": [
    "# Read Training Set\n",
    "df = pd.read_csv('train.csv',dtype={\n",
    "                             'ip': np.uint8,\n",
    "                             'app': np.uint8,\n",
    "                             'device' : np.uint8,\n",
    "                             'os' : np.uint8,\n",
    "                             'channel' : np.uint8,\n",
    "                             'is_attributed' : np.uint8    \n",
    "                        },parse_dates=['click_time'])"
   ]
  },
  {
   "cell_type": "code",
   "execution_count": 3,
   "id": "d9e1ca1e",
   "metadata": {},
   "outputs": [],
   "source": [
    "df['day'] = df['click_time'].dt.day.astype('uint8')\n",
    "# Get oot\n",
    "#oot = df[df['day']==8]\n",
    "\n",
    "# Get Train\n",
    "df = df[df['day']==7]"
   ]
  },
  {
   "cell_type": "code",
   "execution_count": 4,
   "id": "410c8e99",
   "metadata": {},
   "outputs": [],
   "source": [
    "df['hour'] = df['click_time'].dt.hour.astype('uint8')\n",
    "df['minute'] = df['click_time'].dt.minute.astype('uint8')\n",
    "df['second'] = df['click_time'].dt.second.astype('uint8')\n",
    "\n",
    "#Edit minute variable to two-digit string\n",
    "df['minute'] = df['minute'].apply(lambda x: '{0:0>2}'.format(x))"
   ]
  },
  {
   "cell_type": "code",
   "execution_count": 5,
   "id": "6b7b4b5d",
   "metadata": {},
   "outputs": [],
   "source": [
    "click_outlier = 14507.5\n",
    "ratio_outlier = 812.8342105263157"
   ]
  },
  {
   "cell_type": "code",
   "execution_count": 6,
   "id": "7becb711",
   "metadata": {},
   "outputs": [
    {
     "data": {
      "text/html": [
       "<div>\n",
       "<style scoped>\n",
       "    .dataframe tbody tr th:only-of-type {\n",
       "        vertical-align: middle;\n",
       "    }\n",
       "\n",
       "    .dataframe tbody tr th {\n",
       "        vertical-align: top;\n",
       "    }\n",
       "\n",
       "    .dataframe thead th {\n",
       "        text-align: right;\n",
       "    }\n",
       "</style>\n",
       "<table border=\"1\" class=\"dataframe\">\n",
       "  <thead>\n",
       "    <tr style=\"text-align: right;\">\n",
       "      <th></th>\n",
       "      <th>ip</th>\n",
       "      <th>app</th>\n",
       "      <th>device</th>\n",
       "      <th>os</th>\n",
       "      <th>channel</th>\n",
       "      <th>click_time</th>\n",
       "      <th>attributed_time</th>\n",
       "      <th>is_attributed</th>\n",
       "      <th>day</th>\n",
       "      <th>hour</th>\n",
       "      <th>minute</th>\n",
       "      <th>second</th>\n",
       "      <th>seconds_grp</th>\n",
       "      <th>interval</th>\n",
       "      <th>isFraud</th>\n",
       "    </tr>\n",
       "  </thead>\n",
       "  <tbody>\n",
       "    <tr>\n",
       "      <th>0</th>\n",
       "      <td>56</td>\n",
       "      <td>2</td>\n",
       "      <td>1</td>\n",
       "      <td>32</td>\n",
       "      <td>237</td>\n",
       "      <td>2017-11-07</td>\n",
       "      <td>NaN</td>\n",
       "      <td>0</td>\n",
       "      <td>7</td>\n",
       "      <td>0</td>\n",
       "      <td>00</td>\n",
       "      <td>0</td>\n",
       "      <td>1</td>\n",
       "      <td>0001</td>\n",
       "      <td>0.0</td>\n",
       "    </tr>\n",
       "    <tr>\n",
       "      <th>1</th>\n",
       "      <td>68</td>\n",
       "      <td>3</td>\n",
       "      <td>1</td>\n",
       "      <td>25</td>\n",
       "      <td>168</td>\n",
       "      <td>2017-11-07</td>\n",
       "      <td>NaN</td>\n",
       "      <td>0</td>\n",
       "      <td>7</td>\n",
       "      <td>0</td>\n",
       "      <td>00</td>\n",
       "      <td>0</td>\n",
       "      <td>1</td>\n",
       "      <td>0001</td>\n",
       "      <td>0.0</td>\n",
       "    </tr>\n",
       "    <tr>\n",
       "      <th>2</th>\n",
       "      <td>142</td>\n",
       "      <td>8</td>\n",
       "      <td>2</td>\n",
       "      <td>13</td>\n",
       "      <td>145</td>\n",
       "      <td>2017-11-07</td>\n",
       "      <td>NaN</td>\n",
       "      <td>0</td>\n",
       "      <td>7</td>\n",
       "      <td>0</td>\n",
       "      <td>00</td>\n",
       "      <td>0</td>\n",
       "      <td>1</td>\n",
       "      <td>0001</td>\n",
       "      <td>0.0</td>\n",
       "    </tr>\n",
       "    <tr>\n",
       "      <th>3</th>\n",
       "      <td>219</td>\n",
       "      <td>2</td>\n",
       "      <td>1</td>\n",
       "      <td>13</td>\n",
       "      <td>122</td>\n",
       "      <td>2017-11-07</td>\n",
       "      <td>NaN</td>\n",
       "      <td>0</td>\n",
       "      <td>7</td>\n",
       "      <td>0</td>\n",
       "      <td>00</td>\n",
       "      <td>0</td>\n",
       "      <td>1</td>\n",
       "      <td>0001</td>\n",
       "      <td>0.0</td>\n",
       "    </tr>\n",
       "    <tr>\n",
       "      <th>4</th>\n",
       "      <td>167</td>\n",
       "      <td>15</td>\n",
       "      <td>1</td>\n",
       "      <td>8</td>\n",
       "      <td>245</td>\n",
       "      <td>2017-11-07</td>\n",
       "      <td>NaN</td>\n",
       "      <td>0</td>\n",
       "      <td>7</td>\n",
       "      <td>0</td>\n",
       "      <td>00</td>\n",
       "      <td>0</td>\n",
       "      <td>1</td>\n",
       "      <td>0001</td>\n",
       "      <td>0.0</td>\n",
       "    </tr>\n",
       "  </tbody>\n",
       "</table>\n",
       "</div>"
      ],
      "text/plain": [
       "    ip  app  device  os  channel click_time attributed_time  is_attributed  \\\n",
       "0   56    2       1  32      237 2017-11-07             NaN              0   \n",
       "1   68    3       1  25      168 2017-11-07             NaN              0   \n",
       "2  142    8       2  13      145 2017-11-07             NaN              0   \n",
       "3  219    2       1  13      122 2017-11-07             NaN              0   \n",
       "4  167   15       1   8      245 2017-11-07             NaN              0   \n",
       "\n",
       "   day  hour minute  second seconds_grp interval  isFraud  \n",
       "0    7     0     00       0           1     0001      0.0  \n",
       "1    7     0     00       0           1     0001      0.0  \n",
       "2    7     0     00       0           1     0001      0.0  \n",
       "3    7     0     00       0           1     0001      0.0  \n",
       "4    7     0     00       0           1     0001      0.0  "
      ]
     },
     "execution_count": 6,
     "metadata": {},
     "output_type": "execute_result"
    }
   ],
   "source": [
    "# Transform\n",
    "\n",
    "ranges = [-1, 14, 29, 44, np.inf]  # np.inf for infinity\n",
    "labels = ['1', '2', '3', '4']\n",
    "df['seconds_grp'] = pd.cut(df['second'], \n",
    "                                  bins=ranges, \n",
    "                                  labels=labels)\n",
    "df['interval'] = df['hour'].astype(str) + df['minute'].astype(str) + df['seconds_grp'].astype(str)\n",
    "#df['interval'] = df['interval'].astype('uint32')\n",
    "\n",
    "df_interval = df.groupby(\n",
    "    'interval'\n",
    ").aggregate(\n",
    "    {\n",
    "        'is_attributed':sum,\n",
    "        'click_time':\"count\"\n",
    "    }\n",
    ").rename(\n",
    "    columns = {\n",
    "        'is_attributed': 'total_dl', \n",
    "        'click_time': 'total_clicks'\n",
    "    }, \n",
    "    inplace = False)\n",
    "\n",
    "df_interval['conversion_rate'] = df_interval['total_dl']/df_interval['total_clicks']\n",
    "df_interval['ratio'] = df_interval['total_clicks']/df_interval['total_dl']\n",
    "df_interval.reset_index(level=0, inplace=True)\n",
    "\n",
    "df_interval.loc[(df_interval['total_dl'] == 0) & (df_interval['total_clicks'] > click_outlier), 'isFraud'] = 1\n",
    "df_interval.loc[(df_interval['total_dl'] != 0) & (df_interval['ratio'] > ratio_outlier), 'isFraud'] = 1\n",
    "df_interval.loc[(df_interval['isFraud'].isnull()), 'isFraud'] = 0\n",
    "\n",
    "df = pd.merge(df, df_interval[['interval', 'isFraud']], on='interval', how='left')\n",
    "\n",
    "df.loc[(df['is_attributed'] == 1), 'isFraud'] = 0\n",
    "\n",
    "df.head()"
   ]
  },
  {
   "cell_type": "code",
   "execution_count": 19,
   "id": "aa3fd284",
   "metadata": {},
   "outputs": [
    {
     "data": {
      "text/html": [
       "<div>\n",
       "<style scoped>\n",
       "    .dataframe tbody tr th:only-of-type {\n",
       "        vertical-align: middle;\n",
       "    }\n",
       "\n",
       "    .dataframe tbody tr th {\n",
       "        vertical-align: top;\n",
       "    }\n",
       "\n",
       "    .dataframe thead th {\n",
       "        text-align: right;\n",
       "    }\n",
       "</style>\n",
       "<table border=\"1\" class=\"dataframe\">\n",
       "  <thead>\n",
       "    <tr style=\"text-align: right;\">\n",
       "      <th></th>\n",
       "      <th>ip</th>\n",
       "      <th>app</th>\n",
       "      <th>device</th>\n",
       "      <th>os</th>\n",
       "      <th>channel</th>\n",
       "      <th>click_time</th>\n",
       "      <th>attributed_time</th>\n",
       "      <th>is_attributed</th>\n",
       "      <th>day</th>\n",
       "      <th>hour</th>\n",
       "      <th>minute</th>\n",
       "      <th>second</th>\n",
       "      <th>seconds_grp</th>\n",
       "      <th>interval</th>\n",
       "      <th>isFraud</th>\n",
       "    </tr>\n",
       "  </thead>\n",
       "  <tbody>\n",
       "    <tr>\n",
       "      <th>62</th>\n",
       "      <td>155</td>\n",
       "      <td>35</td>\n",
       "      <td>1</td>\n",
       "      <td>13</td>\n",
       "      <td>18</td>\n",
       "      <td>2017-11-07 00:00:00</td>\n",
       "      <td>2017-11-07 01:14:31</td>\n",
       "      <td>1</td>\n",
       "      <td>7</td>\n",
       "      <td>0</td>\n",
       "      <td>00</td>\n",
       "      <td>0</td>\n",
       "      <td>1</td>\n",
       "      <td>0001</td>\n",
       "      <td>0.0</td>\n",
       "    </tr>\n",
       "    <tr>\n",
       "      <th>552</th>\n",
       "      <td>24</td>\n",
       "      <td>35</td>\n",
       "      <td>1</td>\n",
       "      <td>13</td>\n",
       "      <td>18</td>\n",
       "      <td>2017-11-07 00:00:00</td>\n",
       "      <td>2017-11-07 01:03:08</td>\n",
       "      <td>1</td>\n",
       "      <td>7</td>\n",
       "      <td>0</td>\n",
       "      <td>00</td>\n",
       "      <td>0</td>\n",
       "      <td>1</td>\n",
       "      <td>0001</td>\n",
       "      <td>0.0</td>\n",
       "    </tr>\n",
       "    <tr>\n",
       "      <th>732</th>\n",
       "      <td>90</td>\n",
       "      <td>39</td>\n",
       "      <td>1</td>\n",
       "      <td>13</td>\n",
       "      <td>101</td>\n",
       "      <td>2017-11-07 00:00:00</td>\n",
       "      <td>2017-11-07 03:43:13</td>\n",
       "      <td>1</td>\n",
       "      <td>7</td>\n",
       "      <td>0</td>\n",
       "      <td>00</td>\n",
       "      <td>0</td>\n",
       "      <td>1</td>\n",
       "      <td>0001</td>\n",
       "      <td>0.0</td>\n",
       "    </tr>\n",
       "    <tr>\n",
       "      <th>1738</th>\n",
       "      <td>150</td>\n",
       "      <td>35</td>\n",
       "      <td>1</td>\n",
       "      <td>19</td>\n",
       "      <td>21</td>\n",
       "      <td>2017-11-07 00:00:02</td>\n",
       "      <td>2017-11-07 01:45:34</td>\n",
       "      <td>1</td>\n",
       "      <td>7</td>\n",
       "      <td>0</td>\n",
       "      <td>00</td>\n",
       "      <td>2</td>\n",
       "      <td>1</td>\n",
       "      <td>0001</td>\n",
       "      <td>0.0</td>\n",
       "    </tr>\n",
       "    <tr>\n",
       "      <th>2227</th>\n",
       "      <td>194</td>\n",
       "      <td>9</td>\n",
       "      <td>1</td>\n",
       "      <td>10</td>\n",
       "      <td>215</td>\n",
       "      <td>2017-11-07 00:00:02</td>\n",
       "      <td>2017-11-07 12:00:36</td>\n",
       "      <td>1</td>\n",
       "      <td>7</td>\n",
       "      <td>0</td>\n",
       "      <td>00</td>\n",
       "      <td>2</td>\n",
       "      <td>1</td>\n",
       "      <td>0001</td>\n",
       "      <td>0.0</td>\n",
       "    </tr>\n",
       "    <tr>\n",
       "      <th>...</th>\n",
       "      <td>...</td>\n",
       "      <td>...</td>\n",
       "      <td>...</td>\n",
       "      <td>...</td>\n",
       "      <td>...</td>\n",
       "      <td>...</td>\n",
       "      <td>...</td>\n",
       "      <td>...</td>\n",
       "      <td>...</td>\n",
       "      <td>...</td>\n",
       "      <td>...</td>\n",
       "      <td>...</td>\n",
       "      <td>...</td>\n",
       "      <td>...</td>\n",
       "      <td>...</td>\n",
       "    </tr>\n",
       "    <tr>\n",
       "      <th>59630867</th>\n",
       "      <td>228</td>\n",
       "      <td>72</td>\n",
       "      <td>1</td>\n",
       "      <td>27</td>\n",
       "      <td>101</td>\n",
       "      <td>2017-11-07 23:59:56</td>\n",
       "      <td>2017-11-08 12:15:06</td>\n",
       "      <td>1</td>\n",
       "      <td>7</td>\n",
       "      <td>23</td>\n",
       "      <td>59</td>\n",
       "      <td>56</td>\n",
       "      <td>4</td>\n",
       "      <td>23594</td>\n",
       "      <td>0.0</td>\n",
       "    </tr>\n",
       "    <tr>\n",
       "      <th>59631777</th>\n",
       "      <td>174</td>\n",
       "      <td>29</td>\n",
       "      <td>1</td>\n",
       "      <td>19</td>\n",
       "      <td>87</td>\n",
       "      <td>2017-11-07 23:59:57</td>\n",
       "      <td>2017-11-08 01:58:51</td>\n",
       "      <td>1</td>\n",
       "      <td>7</td>\n",
       "      <td>23</td>\n",
       "      <td>59</td>\n",
       "      <td>57</td>\n",
       "      <td>4</td>\n",
       "      <td>23594</td>\n",
       "      <td>0.0</td>\n",
       "    </tr>\n",
       "    <tr>\n",
       "      <th>59632107</th>\n",
       "      <td>169</td>\n",
       "      <td>2</td>\n",
       "      <td>1</td>\n",
       "      <td>6</td>\n",
       "      <td>179</td>\n",
       "      <td>2017-11-07 23:59:58</td>\n",
       "      <td>2017-11-08 00:00:40</td>\n",
       "      <td>1</td>\n",
       "      <td>7</td>\n",
       "      <td>23</td>\n",
       "      <td>59</td>\n",
       "      <td>58</td>\n",
       "      <td>4</td>\n",
       "      <td>23594</td>\n",
       "      <td>0.0</td>\n",
       "    </tr>\n",
       "    <tr>\n",
       "      <th>59632922</th>\n",
       "      <td>179</td>\n",
       "      <td>19</td>\n",
       "      <td>0</td>\n",
       "      <td>236</td>\n",
       "      <td>213</td>\n",
       "      <td>2017-11-07 23:59:59</td>\n",
       "      <td>2017-11-08 00:00:59</td>\n",
       "      <td>1</td>\n",
       "      <td>7</td>\n",
       "      <td>23</td>\n",
       "      <td>59</td>\n",
       "      <td>59</td>\n",
       "      <td>4</td>\n",
       "      <td>23594</td>\n",
       "      <td>0.0</td>\n",
       "    </tr>\n",
       "    <tr>\n",
       "      <th>59633242</th>\n",
       "      <td>68</td>\n",
       "      <td>19</td>\n",
       "      <td>62</td>\n",
       "      <td>0</td>\n",
       "      <td>26</td>\n",
       "      <td>2017-11-07 23:59:59</td>\n",
       "      <td>2017-11-08 01:17:17</td>\n",
       "      <td>1</td>\n",
       "      <td>7</td>\n",
       "      <td>23</td>\n",
       "      <td>59</td>\n",
       "      <td>59</td>\n",
       "      <td>4</td>\n",
       "      <td>23594</td>\n",
       "      <td>0.0</td>\n",
       "    </tr>\n",
       "  </tbody>\n",
       "</table>\n",
       "<p>152164 rows × 15 columns</p>\n",
       "</div>"
      ],
      "text/plain": [
       "           ip  app  device   os  channel          click_time  \\\n",
       "62        155   35       1   13       18 2017-11-07 00:00:00   \n",
       "552        24   35       1   13       18 2017-11-07 00:00:00   \n",
       "732        90   39       1   13      101 2017-11-07 00:00:00   \n",
       "1738      150   35       1   19       21 2017-11-07 00:00:02   \n",
       "2227      194    9       1   10      215 2017-11-07 00:00:02   \n",
       "...       ...  ...     ...  ...      ...                 ...   \n",
       "59630867  228   72       1   27      101 2017-11-07 23:59:56   \n",
       "59631777  174   29       1   19       87 2017-11-07 23:59:57   \n",
       "59632107  169    2       1    6      179 2017-11-07 23:59:58   \n",
       "59632922  179   19       0  236      213 2017-11-07 23:59:59   \n",
       "59633242   68   19      62    0       26 2017-11-07 23:59:59   \n",
       "\n",
       "              attributed_time  is_attributed  day  hour minute  second  \\\n",
       "62        2017-11-07 01:14:31              1    7     0     00       0   \n",
       "552       2017-11-07 01:03:08              1    7     0     00       0   \n",
       "732       2017-11-07 03:43:13              1    7     0     00       0   \n",
       "1738      2017-11-07 01:45:34              1    7     0     00       2   \n",
       "2227      2017-11-07 12:00:36              1    7     0     00       2   \n",
       "...                       ...            ...  ...   ...    ...     ...   \n",
       "59630867  2017-11-08 12:15:06              1    7    23     59      56   \n",
       "59631777  2017-11-08 01:58:51              1    7    23     59      57   \n",
       "59632107  2017-11-08 00:00:40              1    7    23     59      58   \n",
       "59632922  2017-11-08 00:00:59              1    7    23     59      59   \n",
       "59633242  2017-11-08 01:17:17              1    7    23     59      59   \n",
       "\n",
       "         seconds_grp interval  isFraud  \n",
       "62                 1     0001      0.0  \n",
       "552                1     0001      0.0  \n",
       "732                1     0001      0.0  \n",
       "1738               1     0001      0.0  \n",
       "2227               1     0001      0.0  \n",
       "...              ...      ...      ...  \n",
       "59630867           4    23594      0.0  \n",
       "59631777           4    23594      0.0  \n",
       "59632107           4    23594      0.0  \n",
       "59632922           4    23594      0.0  \n",
       "59633242           4    23594      0.0  \n",
       "\n",
       "[152164 rows x 15 columns]"
      ]
     },
     "execution_count": 19,
     "metadata": {},
     "output_type": "execute_result"
    }
   ],
   "source": [
    "df.loc[(df['is_attributed'] == 1)]"
   ]
  },
  {
   "cell_type": "code",
   "execution_count": 7,
   "id": "0e97840c",
   "metadata": {},
   "outputs": [],
   "source": [
    "from sklearn.model_selection import train_test_split\n",
    "\n",
    "train, test = train_test_split(df, test_size=0.3, random_state = 280)"
   ]
  },
  {
   "cell_type": "code",
   "execution_count": 8,
   "id": "971d597e",
   "metadata": {},
   "outputs": [
    {
     "name": "stdout",
     "output_type": "stream",
     "text": [
      "0.04238831811089665\n",
      "0.04238050847756061\n"
     ]
    }
   ],
   "source": [
    "print(train.isFraud.sum()/len(train))\n",
    "print(test.isFraud.sum()/len(test))"
   ]
  },
  {
   "cell_type": "code",
   "execution_count": 9,
   "id": "2e037e52",
   "metadata": {},
   "outputs": [],
   "source": [
    "train = train.drop([\"click_time\",\"attributed_time\", \"is_attributed\", \"interval\", \"day\", \"seconds_grp\"], axis=1)\n",
    "test = test.drop([\"click_time\",\"attributed_time\", \"is_attributed\", \"interval\", \"day\", \"seconds_grp\"], axis=1)"
   ]
  },
  {
   "cell_type": "code",
   "execution_count": 10,
   "id": "6ce8c9a6",
   "metadata": {},
   "outputs": [
    {
     "data": {
      "text/plain": [
       "Counter({0.0: 1769429, 1.0: 1769429})"
      ]
     },
     "execution_count": 10,
     "metadata": {},
     "output_type": "execute_result"
    }
   ],
   "source": [
    "from imblearn.under_sampling import RandomUnderSampler\n",
    "rus = RandomUnderSampler(random_state=280)\n",
    "\n",
    "y_train = train['isFraud']\n",
    "X_train = train.drop('isFraud', axis = 1)\n",
    "\n",
    "X_train, y_train = rus.fit_resample(X_train, y_train)\n",
    "\n",
    "from collections import Counter\n",
    "\n",
    "Counter(y_train)"
   ]
  },
  {
   "cell_type": "code",
   "execution_count": 11,
   "id": "d5f5cde7",
   "metadata": {},
   "outputs": [],
   "source": [
    "X_train.to_csv('X_train_15s_v2.csv', index=False)\n",
    "y_train.to_csv('y_train_15s_v2.csv', index=False)\n",
    "test.to_csv('test_15s_v2.csv', index=False)"
   ]
  },
  {
   "cell_type": "code",
   "execution_count": null,
   "id": "5e70fb73",
   "metadata": {},
   "outputs": [],
   "source": [
    "X_train.to_csv('X_train_15s.csv', index=False)\n",
    "y_train.to_csv('y_train_15s.csv', index=False)\n",
    "test.to_csv('test_15s.csv', index=False)"
   ]
  },
  {
   "cell_type": "markdown",
   "id": "cdad7387",
   "metadata": {},
   "source": [
    "## Data Prep / Feature Engineering"
   ]
  },
  {
   "cell_type": "code",
   "execution_count": 2,
   "id": "0057da13",
   "metadata": {},
   "outputs": [],
   "source": [
    "# Read Data From Train-Test Split\n",
    "\n",
    "X_train = pd.read_csv('X_train_15s.csv')\n",
    "y_train = pd.read_csv('y_train_15s.csv')\n",
    "test = pd.read_csv('test_15s.csv')"
   ]
  },
  {
   "cell_type": "code",
   "execution_count": 13,
   "id": "3e5786d4",
   "metadata": {},
   "outputs": [
    {
     "data": {
      "text/html": [
       "<div>\n",
       "<style scoped>\n",
       "    .dataframe tbody tr th:only-of-type {\n",
       "        vertical-align: middle;\n",
       "    }\n",
       "\n",
       "    .dataframe tbody tr th {\n",
       "        vertical-align: top;\n",
       "    }\n",
       "\n",
       "    .dataframe thead th {\n",
       "        text-align: right;\n",
       "    }\n",
       "</style>\n",
       "<table border=\"1\" class=\"dataframe\">\n",
       "  <thead>\n",
       "    <tr style=\"text-align: right;\">\n",
       "      <th></th>\n",
       "      <th>ip</th>\n",
       "      <th>app</th>\n",
       "      <th>device</th>\n",
       "      <th>os</th>\n",
       "      <th>channel</th>\n",
       "      <th>hour</th>\n",
       "      <th>minute</th>\n",
       "      <th>second</th>\n",
       "    </tr>\n",
       "  </thead>\n",
       "  <tbody>\n",
       "    <tr>\n",
       "      <th>0</th>\n",
       "      <td>108</td>\n",
       "      <td>11</td>\n",
       "      <td>1</td>\n",
       "      <td>37</td>\n",
       "      <td>63</td>\n",
       "      <td>9</td>\n",
       "      <td>35</td>\n",
       "      <td>43</td>\n",
       "    </tr>\n",
       "    <tr>\n",
       "      <th>1</th>\n",
       "      <td>114</td>\n",
       "      <td>3</td>\n",
       "      <td>1</td>\n",
       "      <td>19</td>\n",
       "      <td>24</td>\n",
       "      <td>5</td>\n",
       "      <td>04</td>\n",
       "      <td>41</td>\n",
       "    </tr>\n",
       "    <tr>\n",
       "      <th>2</th>\n",
       "      <td>27</td>\n",
       "      <td>3</td>\n",
       "      <td>1</td>\n",
       "      <td>19</td>\n",
       "      <td>233</td>\n",
       "      <td>10</td>\n",
       "      <td>57</td>\n",
       "      <td>46</td>\n",
       "    </tr>\n",
       "    <tr>\n",
       "      <th>3</th>\n",
       "      <td>9</td>\n",
       "      <td>3</td>\n",
       "      <td>1</td>\n",
       "      <td>20</td>\n",
       "      <td>173</td>\n",
       "      <td>9</td>\n",
       "      <td>43</td>\n",
       "      <td>50</td>\n",
       "    </tr>\n",
       "    <tr>\n",
       "      <th>4</th>\n",
       "      <td>216</td>\n",
       "      <td>3</td>\n",
       "      <td>1</td>\n",
       "      <td>17</td>\n",
       "      <td>24</td>\n",
       "      <td>5</td>\n",
       "      <td>35</td>\n",
       "      <td>8</td>\n",
       "    </tr>\n",
       "    <tr>\n",
       "      <th>...</th>\n",
       "      <td>...</td>\n",
       "      <td>...</td>\n",
       "      <td>...</td>\n",
       "      <td>...</td>\n",
       "      <td>...</td>\n",
       "      <td>...</td>\n",
       "      <td>...</td>\n",
       "      <td>...</td>\n",
       "    </tr>\n",
       "    <tr>\n",
       "      <th>3538853</th>\n",
       "      <td>101</td>\n",
       "      <td>12</td>\n",
       "      <td>1</td>\n",
       "      <td>3</td>\n",
       "      <td>245</td>\n",
       "      <td>23</td>\n",
       "      <td>15</td>\n",
       "      <td>19</td>\n",
       "    </tr>\n",
       "    <tr>\n",
       "      <th>3538854</th>\n",
       "      <td>75</td>\n",
       "      <td>12</td>\n",
       "      <td>1</td>\n",
       "      <td>8</td>\n",
       "      <td>3</td>\n",
       "      <td>15</td>\n",
       "      <td>07</td>\n",
       "      <td>0</td>\n",
       "    </tr>\n",
       "    <tr>\n",
       "      <th>3538855</th>\n",
       "      <td>145</td>\n",
       "      <td>15</td>\n",
       "      <td>1</td>\n",
       "      <td>12</td>\n",
       "      <td>3</td>\n",
       "      <td>21</td>\n",
       "      <td>19</td>\n",
       "      <td>49</td>\n",
       "    </tr>\n",
       "    <tr>\n",
       "      <th>3538856</th>\n",
       "      <td>123</td>\n",
       "      <td>24</td>\n",
       "      <td>1</td>\n",
       "      <td>10</td>\n",
       "      <td>105</td>\n",
       "      <td>15</td>\n",
       "      <td>38</td>\n",
       "      <td>56</td>\n",
       "    </tr>\n",
       "    <tr>\n",
       "      <th>3538857</th>\n",
       "      <td>40</td>\n",
       "      <td>12</td>\n",
       "      <td>1</td>\n",
       "      <td>13</td>\n",
       "      <td>245</td>\n",
       "      <td>20</td>\n",
       "      <td>25</td>\n",
       "      <td>2</td>\n",
       "    </tr>\n",
       "  </tbody>\n",
       "</table>\n",
       "<p>3538858 rows × 8 columns</p>\n",
       "</div>"
      ],
      "text/plain": [
       "          ip  app  device  os  channel  hour minute  second\n",
       "0        108   11       1  37       63     9     35      43\n",
       "1        114    3       1  19       24     5     04      41\n",
       "2         27    3       1  19      233    10     57      46\n",
       "3          9    3       1  20      173     9     43      50\n",
       "4        216    3       1  17       24     5     35       8\n",
       "...      ...  ...     ...  ..      ...   ...    ...     ...\n",
       "3538853  101   12       1   3      245    23     15      19\n",
       "3538854   75   12       1   8        3    15     07       0\n",
       "3538855  145   15       1  12        3    21     19      49\n",
       "3538856  123   24       1  10      105    15     38      56\n",
       "3538857   40   12       1  13      245    20     25       2\n",
       "\n",
       "[3538858 rows x 8 columns]"
      ]
     },
     "execution_count": 13,
     "metadata": {},
     "output_type": "execute_result"
    }
   ],
   "source": [
    "X_train"
   ]
  },
  {
   "cell_type": "code",
   "execution_count": 14,
   "id": "551a9229",
   "metadata": {},
   "outputs": [],
   "source": [
    "import category_encoders as ce\n",
    "cat_features = ['ip', 'app', 'device', 'os', 'channel']\n",
    "count_enc = ce.CountEncoder(cols=cat_features)\n",
    "count_enc.fit(X_train[cat_features])\n",
    "\n",
    "X_train = X_train.join(count_enc.transform(X_train[cat_features]).add_suffix(\"_count\"))\n",
    "test = test.join(count_enc.transform(test[cat_features]).add_suffix(\"_count\"))"
   ]
  },
  {
   "cell_type": "code",
   "execution_count": 15,
   "id": "ac4818b5",
   "metadata": {},
   "outputs": [],
   "source": [
    "# Define catboost encoder\n",
    "cbe_encoder = ce.cat_boost.CatBoostEncoder(cols=cat_features, random_state=1234)\n",
    "  \n",
    "# Fit encoder and transform the features\n",
    "cbe_encoder.fit(X_train[cat_features], y_train)\n",
    "\n",
    "X_train = X_train.join(cbe_encoder.transform(X_train[cat_features]).add_suffix(\"_cb\"))\n",
    "test = test.join(cbe_encoder.transform(test[cat_features]).add_suffix(\"_cb\"))"
   ]
  },
  {
   "cell_type": "code",
   "execution_count": 16,
   "id": "fc6f11af",
   "metadata": {},
   "outputs": [],
   "source": [
    "feature_cols = ['ip_count', 'app_count', 'device_count','os_count', 'channel_count',\n",
    "               'ip_cb', 'app_cb', 'device_cb','os_cb', 'channel_cb']"
   ]
  },
  {
   "cell_type": "code",
   "execution_count": 17,
   "id": "ce46bdec",
   "metadata": {},
   "outputs": [],
   "source": [
    "X_train = X_train[feature_cols]\n",
    "X_test = test[feature_cols]"
   ]
  },
  {
   "cell_type": "code",
   "execution_count": 7,
   "id": "ba7042c2",
   "metadata": {},
   "outputs": [
    {
     "data": {
      "text/plain": [
       "StandardScaler()"
      ]
     },
     "execution_count": 7,
     "metadata": {},
     "output_type": "execute_result"
    }
   ],
   "source": [
    "from sklearn.preprocessing import StandardScaler\n",
    "\n",
    "scaler = StandardScaler()\n",
    "scaler.fit(X_train)\n",
    "\n",
    "scaler.fit(X_test)"
   ]
  },
  {
   "cell_type": "code",
   "execution_count": 18,
   "id": "83c2585c",
   "metadata": {},
   "outputs": [
    {
     "name": "stdout",
     "output_type": "stream",
     "text": [
      "0.5\n",
      "0.04238050847756061\n"
     ]
    }
   ],
   "source": [
    "# Check event rate\n",
    "print(y_train.sum()/len(y_train))\n",
    "print(test.isFraud.sum()/len(test))"
   ]
  },
  {
   "cell_type": "markdown",
   "id": "e640e5f4",
   "metadata": {},
   "source": [
    "## Modelling"
   ]
  },
  {
   "cell_type": "code",
   "execution_count": 10,
   "id": "8e561cb6",
   "metadata": {},
   "outputs": [
    {
     "name": "stdout",
     "output_type": "stream",
     "text": [
      "[16:10:46] WARNING: C:/Users/Administrator/workspace/xgboost-win64_release_1.4.0/src/learner.cc:1095: Starting in XGBoost 1.3.0, the default evaluation metric used with the objective 'binary:logistic' was changed from 'error' to 'logloss'. Explicitly set eval_metric if you'd like to restore the old behavior.\n"
     ]
    },
    {
     "ename": "KeyboardInterrupt",
     "evalue": "",
     "output_type": "error",
     "traceback": [
      "\u001b[1;31m---------------------------------------------------------------------------\u001b[0m",
      "\u001b[1;31mKeyboardInterrupt\u001b[0m                         Traceback (most recent call last)",
      "\u001b[1;32m<ipython-input-10-3246b761a690>\u001b[0m in \u001b[0;36m<module>\u001b[1;34m\u001b[0m\n\u001b[0;32m      6\u001b[0m                         \u001b[0mn_estimators\u001b[0m\u001b[1;33m=\u001b[0m\u001b[1;36m300\u001b[0m\u001b[1;33m,\u001b[0m\u001b[1;33m\u001b[0m\u001b[1;33m\u001b[0m\u001b[0m\n\u001b[0;32m      7\u001b[0m                         learning_rate = 0.01)\n\u001b[1;32m----> 8\u001b[1;33m \u001b[0mxgb_model\u001b[0m\u001b[1;33m.\u001b[0m\u001b[0mfit\u001b[0m\u001b[1;33m(\u001b[0m\u001b[0mX_train\u001b[0m\u001b[1;33m,\u001b[0m \u001b[0my_train\u001b[0m\u001b[1;33m)\u001b[0m\u001b[1;33m\u001b[0m\u001b[1;33m\u001b[0m\u001b[0m\n\u001b[0m\u001b[0;32m      9\u001b[0m \u001b[1;33m\u001b[0m\u001b[0m\n\u001b[0;32m     10\u001b[0m \u001b[1;33m\u001b[0m\u001b[0m\n",
      "\u001b[1;32m~\\anaconda3\\lib\\site-packages\\xgboost\\core.py\u001b[0m in \u001b[0;36minner_f\u001b[1;34m(*args, **kwargs)\u001b[0m\n\u001b[0;32m    434\u001b[0m         \u001b[1;32mfor\u001b[0m \u001b[0mk\u001b[0m\u001b[1;33m,\u001b[0m \u001b[0marg\u001b[0m \u001b[1;32min\u001b[0m \u001b[0mzip\u001b[0m\u001b[1;33m(\u001b[0m\u001b[0msig\u001b[0m\u001b[1;33m.\u001b[0m\u001b[0mparameters\u001b[0m\u001b[1;33m,\u001b[0m \u001b[0margs\u001b[0m\u001b[1;33m)\u001b[0m\u001b[1;33m:\u001b[0m\u001b[1;33m\u001b[0m\u001b[1;33m\u001b[0m\u001b[0m\n\u001b[0;32m    435\u001b[0m             \u001b[0mkwargs\u001b[0m\u001b[1;33m[\u001b[0m\u001b[0mk\u001b[0m\u001b[1;33m]\u001b[0m \u001b[1;33m=\u001b[0m \u001b[0marg\u001b[0m\u001b[1;33m\u001b[0m\u001b[1;33m\u001b[0m\u001b[0m\n\u001b[1;32m--> 436\u001b[1;33m         \u001b[1;32mreturn\u001b[0m \u001b[0mf\u001b[0m\u001b[1;33m(\u001b[0m\u001b[1;33m**\u001b[0m\u001b[0mkwargs\u001b[0m\u001b[1;33m)\u001b[0m\u001b[1;33m\u001b[0m\u001b[1;33m\u001b[0m\u001b[0m\n\u001b[0m\u001b[0;32m    437\u001b[0m \u001b[1;33m\u001b[0m\u001b[0m\n\u001b[0;32m    438\u001b[0m     \u001b[1;32mreturn\u001b[0m \u001b[0minner_f\u001b[0m\u001b[1;33m\u001b[0m\u001b[1;33m\u001b[0m\u001b[0m\n",
      "\u001b[1;32m~\\anaconda3\\lib\\site-packages\\xgboost\\sklearn.py\u001b[0m in \u001b[0;36mfit\u001b[1;34m(self, X, y, sample_weight, base_margin, eval_set, eval_metric, early_stopping_rounds, verbose, xgb_model, sample_weight_eval_set, base_margin_eval_set, feature_weights, callbacks)\u001b[0m\n\u001b[0;32m   1174\u001b[0m         )\n\u001b[0;32m   1175\u001b[0m \u001b[1;33m\u001b[0m\u001b[0m\n\u001b[1;32m-> 1176\u001b[1;33m         self._Booster = train(\n\u001b[0m\u001b[0;32m   1177\u001b[0m             \u001b[0mparams\u001b[0m\u001b[1;33m,\u001b[0m\u001b[1;33m\u001b[0m\u001b[1;33m\u001b[0m\u001b[0m\n\u001b[0;32m   1178\u001b[0m             \u001b[0mtrain_dmatrix\u001b[0m\u001b[1;33m,\u001b[0m\u001b[1;33m\u001b[0m\u001b[1;33m\u001b[0m\u001b[0m\n",
      "\u001b[1;32m~\\anaconda3\\lib\\site-packages\\xgboost\\training.py\u001b[0m in \u001b[0;36mtrain\u001b[1;34m(params, dtrain, num_boost_round, evals, obj, feval, maximize, early_stopping_rounds, evals_result, verbose_eval, xgb_model, callbacks)\u001b[0m\n\u001b[0;32m    187\u001b[0m     \u001b[0mBooster\u001b[0m \u001b[1;33m:\u001b[0m \u001b[0ma\u001b[0m \u001b[0mtrained\u001b[0m \u001b[0mbooster\u001b[0m \u001b[0mmodel\u001b[0m\u001b[1;33m\u001b[0m\u001b[1;33m\u001b[0m\u001b[0m\n\u001b[0;32m    188\u001b[0m     \"\"\"\n\u001b[1;32m--> 189\u001b[1;33m     bst = _train_internal(params, dtrain,\n\u001b[0m\u001b[0;32m    190\u001b[0m                           \u001b[0mnum_boost_round\u001b[0m\u001b[1;33m=\u001b[0m\u001b[0mnum_boost_round\u001b[0m\u001b[1;33m,\u001b[0m\u001b[1;33m\u001b[0m\u001b[1;33m\u001b[0m\u001b[0m\n\u001b[0;32m    191\u001b[0m                           \u001b[0mevals\u001b[0m\u001b[1;33m=\u001b[0m\u001b[0mevals\u001b[0m\u001b[1;33m,\u001b[0m\u001b[1;33m\u001b[0m\u001b[1;33m\u001b[0m\u001b[0m\n",
      "\u001b[1;32m~\\anaconda3\\lib\\site-packages\\xgboost\\training.py\u001b[0m in \u001b[0;36m_train_internal\u001b[1;34m(params, dtrain, num_boost_round, evals, obj, feval, xgb_model, callbacks, evals_result, maximize, verbose_eval, early_stopping_rounds)\u001b[0m\n\u001b[0;32m     79\u001b[0m         \u001b[1;32mif\u001b[0m \u001b[0mcallbacks\u001b[0m\u001b[1;33m.\u001b[0m\u001b[0mbefore_iteration\u001b[0m\u001b[1;33m(\u001b[0m\u001b[0mbst\u001b[0m\u001b[1;33m,\u001b[0m \u001b[0mi\u001b[0m\u001b[1;33m,\u001b[0m \u001b[0mdtrain\u001b[0m\u001b[1;33m,\u001b[0m \u001b[0mevals\u001b[0m\u001b[1;33m)\u001b[0m\u001b[1;33m:\u001b[0m\u001b[1;33m\u001b[0m\u001b[1;33m\u001b[0m\u001b[0m\n\u001b[0;32m     80\u001b[0m             \u001b[1;32mbreak\u001b[0m\u001b[1;33m\u001b[0m\u001b[1;33m\u001b[0m\u001b[0m\n\u001b[1;32m---> 81\u001b[1;33m         \u001b[0mbst\u001b[0m\u001b[1;33m.\u001b[0m\u001b[0mupdate\u001b[0m\u001b[1;33m(\u001b[0m\u001b[0mdtrain\u001b[0m\u001b[1;33m,\u001b[0m \u001b[0mi\u001b[0m\u001b[1;33m,\u001b[0m \u001b[0mobj\u001b[0m\u001b[1;33m)\u001b[0m\u001b[1;33m\u001b[0m\u001b[1;33m\u001b[0m\u001b[0m\n\u001b[0m\u001b[0;32m     82\u001b[0m         \u001b[1;32mif\u001b[0m \u001b[0mcallbacks\u001b[0m\u001b[1;33m.\u001b[0m\u001b[0mafter_iteration\u001b[0m\u001b[1;33m(\u001b[0m\u001b[0mbst\u001b[0m\u001b[1;33m,\u001b[0m \u001b[0mi\u001b[0m\u001b[1;33m,\u001b[0m \u001b[0mdtrain\u001b[0m\u001b[1;33m,\u001b[0m \u001b[0mevals\u001b[0m\u001b[1;33m)\u001b[0m\u001b[1;33m:\u001b[0m\u001b[1;33m\u001b[0m\u001b[1;33m\u001b[0m\u001b[0m\n\u001b[0;32m     83\u001b[0m             \u001b[1;32mbreak\u001b[0m\u001b[1;33m\u001b[0m\u001b[1;33m\u001b[0m\u001b[0m\n",
      "\u001b[1;32m~\\anaconda3\\lib\\site-packages\\xgboost\\core.py\u001b[0m in \u001b[0;36mupdate\u001b[1;34m(self, dtrain, iteration, fobj)\u001b[0m\n\u001b[0;32m   1497\u001b[0m \u001b[1;33m\u001b[0m\u001b[0m\n\u001b[0;32m   1498\u001b[0m         \u001b[1;32mif\u001b[0m \u001b[0mfobj\u001b[0m \u001b[1;32mis\u001b[0m \u001b[1;32mNone\u001b[0m\u001b[1;33m:\u001b[0m\u001b[1;33m\u001b[0m\u001b[1;33m\u001b[0m\u001b[0m\n\u001b[1;32m-> 1499\u001b[1;33m             _check_call(_LIB.XGBoosterUpdateOneIter(self.handle,\n\u001b[0m\u001b[0;32m   1500\u001b[0m                                                     \u001b[0mctypes\u001b[0m\u001b[1;33m.\u001b[0m\u001b[0mc_int\u001b[0m\u001b[1;33m(\u001b[0m\u001b[0miteration\u001b[0m\u001b[1;33m)\u001b[0m\u001b[1;33m,\u001b[0m\u001b[1;33m\u001b[0m\u001b[1;33m\u001b[0m\u001b[0m\n\u001b[0;32m   1501\u001b[0m                                                     dtrain.handle))\n",
      "\u001b[1;31mKeyboardInterrupt\u001b[0m: "
     ]
    }
   ],
   "source": [
    "from xgboost import XGBClassifier\n",
    "\n",
    "xgb_model = XGBClassifier(max_depth=12,\n",
    "                        subsample=0.33,\n",
    "                        objective='binary:logistic',\n",
    "                        n_estimators=300,\n",
    "                        learning_rate = 0.01)\n",
    "xgb_model.fit(X_train, y_train)\n",
    "\n",
    "\n",
    "# save model\n",
    "import joblib\n",
    "\n",
    "joblib.dump(xgb_model, 'xgb_count_cat_15s_v2.pkl')"
   ]
  },
  {
   "cell_type": "code",
   "execution_count": null,
   "id": "3c62601d",
   "metadata": {},
   "outputs": [],
   "source": [
    "# Prediction - Rounding-off Probability\n",
    "\n",
    "ypred_lgb = xgb_model.predict(X_train)\n",
    "predictions_lgb = [round(value) for value in ypred_lgb]\n",
    "from sklearn.metrics import accuracy_score\n",
    "from sklearn.metrics import roc_auc_score\n",
    "\n",
    "# evaluate predictions\n",
    "print(\"Train Eval\")\n",
    "print(\"accuracy: \",accuracy_score(y_train,predictions_lgb)*100)\n",
    "print(\"auc: \",roc_auc_score(y_train,predictions_lgb)*100)\n",
    "print(\"precision_score: \",precision_score(y_train,predictions_lgb)*100)\n",
    "print(\"recall_score: \",recall_score(y_train,predictions_lgb)*100)\n",
    "\n",
    "# Prediction - Rounding-off Probability\n",
    "ypred_lgb = xgb_model.predict(test[feature_cols])\n",
    "predictions_lgb = [round(value) for value in ypred_lgb]\n",
    "from sklearn.metrics import accuracy_score\n",
    "from sklearn.metrics import roc_auc_score\n",
    "\n",
    "# evaluate predictions\n",
    "print(\"Test Eval\")\n",
    "print(\"accuracy: \",accuracy_score(test['isFraud'],predictions_lgb)*100)\n",
    "print(\"auc: \",roc_auc_score(test['isFraud'],predictions_lgb)*100)\n",
    "print(\"precision_score: \",precision_score(test['isFraud'],predictions_lgb)*100)\n",
    "print(\"recall_score: \",recall_score(test['isFraud'],predictions_lgb)*100)\n",
    "\n",
    "X_train['prediction']=xgb_model.predict(X_train)\n",
    "X_train['decile'] = pd.qcut(X_train['prediction'], 10, labels=False)\n",
    "\n",
    "# At top 2 Decile\n",
    "X_train['predict_fraud'] = np.where(X_train['decile']>=8, 1, 0)\n",
    "\n",
    "print(\"Train Eval at Decile 2\")\n",
    "print(\"accuracy: \",accuracy_score(y_train,X_train['predict_fraud'])*100)\n",
    "print(\"auc: \",roc_auc_score(y_train,X_train['predict_fraud'])*100)\n",
    "print(\"precision_score: \",precision_score(y_train,X_train['predict_fraud'])*100)\n",
    "print(\"recall_score: \",recall_score(y_train,X_train['predict_fraud'])*100)\n",
    "\n",
    "test['prediction']=lgbm_model.predict(test[feature_cols])\n",
    "test['decile'] = pd.qcut(test['prediction'], 10, labels=False)\n",
    "\n",
    "# At top 2 Decile\n",
    "test['predict_fraud'] = np.where(test['decile']>=8, 1, 0)\n",
    "\n",
    "print(\"Test Eval at Decile 2\")\n",
    "print(\"accuracy: \",accuracy_score(test['isFraud'],test['predict_fraud'])*100)\n",
    "print(\"auc: \",roc_auc_score(test['isFraud'],test['predict_fraud'])*100)\n",
    "print(\"precision_score: \",precision_score(test['isFraud'],test['predict_fraud'])*100)\n",
    "print(\"recall_score: \",recall_score(test['isFraud'],test['predict_fraud'])*100)"
   ]
  },
  {
   "cell_type": "code",
   "execution_count": null,
   "id": "9c68f8be",
   "metadata": {},
   "outputs": [],
   "source": [
    "import matplotlib.pyplot as plt\n",
    "\n",
    "xgb.plot_tree(xgb_model,num_trees=0)\n",
    "plt.rcParams['figure.figsize'] = [50, 10]\n",
    "plt.show()"
   ]
  },
  {
   "cell_type": "code",
   "execution_count": null,
   "id": "c9f7fc17",
   "metadata": {},
   "outputs": [],
   "source": [
    "xgb.plot_importance(xgb_model)\n",
    "plt.rcParams['figure.figsize'] = [5, 5]\n",
    "plt.show()"
   ]
  },
  {
   "cell_type": "code",
   "execution_count": 20,
   "id": "d20ccd34",
   "metadata": {},
   "outputs": [
    {
     "name": "stdout",
     "output_type": "stream",
     "text": [
      "[LightGBM] [Info] Number of positive: 1769429, number of negative: 1769429\n",
      "[LightGBM] [Warning] Auto-choosing row-wise multi-threading, the overhead of testing was 0.062779 seconds.\n",
      "You can set `force_row_wise=true` to remove the overhead.\n",
      "And if memory is not enough, you can set `force_col_wise=true`.\n",
      "[LightGBM] [Info] Total Bins 482\n",
      "[LightGBM] [Info] Number of data points in the train set: 3538858, number of used features: 10\n",
      "[LightGBM] [Info] [binary:BoostFromScore]: pavg=0.500000 -> initscore=0.000000\n",
      "[1]\tvalid_0's binary_logloss: 0.688318\n",
      "[2]\tvalid_0's binary_logloss: 0.684484\n",
      "[3]\tvalid_0's binary_logloss: 0.681407\n",
      "[4]\tvalid_0's binary_logloss: 0.681533\n",
      "[5]\tvalid_0's binary_logloss: 0.679053\n",
      "[6]\tvalid_0's binary_logloss: 0.676999\n",
      "[7]\tvalid_0's binary_logloss: 0.675367\n",
      "[8]\tvalid_0's binary_logloss: 0.674041\n",
      "[9]\tvalid_0's binary_logloss: 0.672913\n",
      "[10]\tvalid_0's binary_logloss: 0.671998\n",
      "[11]\tvalid_0's binary_logloss: 0.672132\n",
      "[12]\tvalid_0's binary_logloss: 0.671357\n",
      "[13]\tvalid_0's binary_logloss: 0.6714\n",
      "[14]\tvalid_0's binary_logloss: 0.670742\n",
      "[15]\tvalid_0's binary_logloss: 0.670617\n",
      "[16]\tvalid_0's binary_logloss: 0.670552\n",
      "[17]\tvalid_0's binary_logloss: 0.670033\n",
      "[18]\tvalid_0's binary_logloss: 0.669589\n",
      "[19]\tvalid_0's binary_logloss: 0.669686\n",
      "[20]\tvalid_0's binary_logloss: 0.669295\n",
      "[21]\tvalid_0's binary_logloss: 0.66895\n",
      "[22]\tvalid_0's binary_logloss: 0.669073\n",
      "[23]\tvalid_0's binary_logloss: 0.669325\n",
      "[24]\tvalid_0's binary_logloss: 0.66943\n",
      "[25]\tvalid_0's binary_logloss: 0.669666\n",
      "[26]\tvalid_0's binary_logloss: 0.669255\n",
      "[27]\tvalid_0's binary_logloss: 0.668925\n",
      "[28]\tvalid_0's binary_logloss: 0.668658\n",
      "[29]\tvalid_0's binary_logloss: 0.66841\n",
      "[30]\tvalid_0's binary_logloss: 0.668221\n",
      "[31]\tvalid_0's binary_logloss: 0.668059\n",
      "[32]\tvalid_0's binary_logloss: 0.667914\n",
      "[33]\tvalid_0's binary_logloss: 0.667769\n",
      "[34]\tvalid_0's binary_logloss: 0.667816\n",
      "[35]\tvalid_0's binary_logloss: 0.667703\n",
      "[36]\tvalid_0's binary_logloss: 0.667731\n",
      "[37]\tvalid_0's binary_logloss: 0.66762\n",
      "[38]\tvalid_0's binary_logloss: 0.667515\n",
      "[39]\tvalid_0's binary_logloss: 0.667437\n",
      "[40]\tvalid_0's binary_logloss: 0.667449\n",
      "[41]\tvalid_0's binary_logloss: 0.667376\n",
      "[42]\tvalid_0's binary_logloss: 0.667349\n",
      "[43]\tvalid_0's binary_logloss: 0.667369\n",
      "[44]\tvalid_0's binary_logloss: 0.667294\n",
      "[45]\tvalid_0's binary_logloss: 0.667232\n",
      "[46]\tvalid_0's binary_logloss: 0.667245\n",
      "[47]\tvalid_0's binary_logloss: 0.667269\n",
      "[48]\tvalid_0's binary_logloss: 0.667188\n",
      "[49]\tvalid_0's binary_logloss: 0.667176\n",
      "[50]\tvalid_0's binary_logloss: 0.667089\n",
      "[51]\tvalid_0's binary_logloss: 0.66713\n",
      "[52]\tvalid_0's binary_logloss: 0.667066\n",
      "[53]\tvalid_0's binary_logloss: 0.667102\n",
      "[54]\tvalid_0's binary_logloss: 0.667157\n",
      "[55]\tvalid_0's binary_logloss: 0.667202\n",
      "[56]\tvalid_0's binary_logloss: 0.667112\n",
      "[57]\tvalid_0's binary_logloss: 0.667109\n",
      "[58]\tvalid_0's binary_logloss: 0.667146\n",
      "[59]\tvalid_0's binary_logloss: 0.667147\n",
      "[60]\tvalid_0's binary_logloss: 0.667183\n",
      "[61]\tvalid_0's binary_logloss: 0.667238\n",
      "[62]\tvalid_0's binary_logloss: 0.667288\n",
      "[63]\tvalid_0's binary_logloss: 0.66734\n",
      "[64]\tvalid_0's binary_logloss: 0.667245\n",
      "[65]\tvalid_0's binary_logloss: 0.667154\n",
      "[66]\tvalid_0's binary_logloss: 0.667088\n",
      "[67]\tvalid_0's binary_logloss: 0.667028\n",
      "[68]\tvalid_0's binary_logloss: 0.666975\n",
      "[69]\tvalid_0's binary_logloss: 0.666928\n",
      "[70]\tvalid_0's binary_logloss: 0.666906\n",
      "[71]\tvalid_0's binary_logloss: 0.666887\n",
      "[72]\tvalid_0's binary_logloss: 0.666846\n",
      "[73]\tvalid_0's binary_logloss: 0.666841\n",
      "[74]\tvalid_0's binary_logloss: 0.666835\n",
      "[75]\tvalid_0's binary_logloss: 0.666853\n",
      "[76]\tvalid_0's binary_logloss: 0.666863\n",
      "[77]\tvalid_0's binary_logloss: 0.666859\n",
      "[78]\tvalid_0's binary_logloss: 0.666873\n",
      "[79]\tvalid_0's binary_logloss: 0.666881\n",
      "[80]\tvalid_0's binary_logloss: 0.666883\n",
      "[81]\tvalid_0's binary_logloss: 0.666844\n",
      "[82]\tvalid_0's binary_logloss: 0.666813\n",
      "[83]\tvalid_0's binary_logloss: 0.666822\n",
      "[84]\tvalid_0's binary_logloss: 0.666837\n",
      "[85]\tvalid_0's binary_logloss: 0.666859\n",
      "[86]\tvalid_0's binary_logloss: 0.666811\n",
      "[87]\tvalid_0's binary_logloss: 0.666776\n",
      "[88]\tvalid_0's binary_logloss: 0.666798\n",
      "[89]\tvalid_0's binary_logloss: 0.666757\n",
      "[90]\tvalid_0's binary_logloss: 0.666759\n",
      "[91]\tvalid_0's binary_logloss: 0.666768\n",
      "[92]\tvalid_0's binary_logloss: 0.666744\n",
      "[93]\tvalid_0's binary_logloss: 0.666727\n",
      "[94]\tvalid_0's binary_logloss: 0.666738\n",
      "[95]\tvalid_0's binary_logloss: 0.666705\n",
      "[96]\tvalid_0's binary_logloss: 0.666715\n",
      "[97]\tvalid_0's binary_logloss: 0.66668\n",
      "[98]\tvalid_0's binary_logloss: 0.666651\n",
      "[99]\tvalid_0's binary_logloss: 0.66666\n",
      "[100]\tvalid_0's binary_logloss: 0.666639\n"
     ]
    },
    {
     "data": {
      "text/plain": [
       "['lgb_count_cat_15s_v2.pkl']"
      ]
     },
     "execution_count": 20,
     "metadata": {},
     "output_type": "execute_result"
    }
   ],
   "source": [
    "import lightgbm as lgb\n",
    "\n",
    "dtrain = lgb.Dataset(X_train, label=y_train)\n",
    "dtest = lgb.Dataset(test[feature_cols], label=test['isFraud'])\n",
    "\n",
    "param = {'num_leaves': 180, \n",
    "         'max_bin': 64,\n",
    "         'objective': 'binary', \n",
    "         'learning_rate': 0.1,\n",
    "         'metric': 'binary_logloss', \n",
    "         'boosting': 'dart',\n",
    "         'seed': 280}\n",
    "lgbm_model = lgb.train(param, \n",
    "                       dtrain, \n",
    "                       num_boost_round=100, \n",
    "                       valid_sets=[dtest], \n",
    "                       early_stopping_rounds=5)\n",
    "\n",
    "# save model\n",
    "import joblib\n",
    "\n",
    "joblib.dump(lgbm_model, 'lgb_count_cat_15s_v2.pkl')"
   ]
  },
  {
   "cell_type": "markdown",
   "id": "d17ee32a",
   "metadata": {},
   "source": [
    "### Train - Eval"
   ]
  },
  {
   "cell_type": "code",
   "execution_count": 21,
   "id": "bb086869",
   "metadata": {},
   "outputs": [
    {
     "name": "stdout",
     "output_type": "stream",
     "text": [
      "accuracy:  58.429046884616454\n",
      "auc:  58.429046884616454\n",
      "precision_score:  59.56133973892964\n",
      "recall_score:  52.50784292559916\n"
     ]
    }
   ],
   "source": [
    "# Prediction - Rounding-off Probability\n",
    "\n",
    "ypred_lgb = lgbm_model.predict(X_train)\n",
    "predictions_lgb = [round(value) for value in ypred_lgb]\n",
    "from sklearn.metrics import accuracy_score\n",
    "from sklearn.metrics import roc_auc_score\n",
    "\n",
    "# evaluate predictions\n",
    "\n",
    "print(\"accuracy: \",accuracy_score(y_train,predictions_lgb)*100)\n",
    "print(\"auc: \",roc_auc_score(y_train,predictions_lgb)*100)\n",
    "print(\"precision_score: \",precision_score(y_train,predictions_lgb)*100)\n",
    "print(\"recall_score: \",recall_score(y_train,predictions_lgb)*100)"
   ]
  },
  {
   "cell_type": "markdown",
   "id": "59fcf9ea",
   "metadata": {},
   "source": [
    "### Test - Eval"
   ]
  },
  {
   "cell_type": "code",
   "execution_count": 22,
   "id": "9e0c452a",
   "metadata": {},
   "outputs": [
    {
     "name": "stdout",
     "output_type": "stream",
     "text": [
      "accuracy:  63.723965682937944\n",
      "auc:  58.27209677098635\n",
      "precision_score:  6.078999964597099\n",
      "recall_score:  52.315325902448876\n"
     ]
    }
   ],
   "source": [
    "# Prediction - Rounding-off Probability\n",
    "ypred_lgb = lgbm_model.predict(test[feature_cols])\n",
    "predictions_lgb = [round(value) for value in ypred_lgb]\n",
    "from sklearn.metrics import accuracy_score\n",
    "from sklearn.metrics import roc_auc_score\n",
    "\n",
    "# evaluate predictions\n",
    "\n",
    "print(\"accuracy: \",accuracy_score(test['isFraud'],predictions_lgb)*100)\n",
    "print(\"auc: \",roc_auc_score(test['isFraud'],predictions_lgb)*100)\n",
    "print(\"precision_score: \",precision_score(test['isFraud'],predictions_lgb)*100)\n",
    "print(\"recall_score: \",recall_score(test['isFraud'],predictions_lgb)*100)"
   ]
  },
  {
   "cell_type": "markdown",
   "id": "9666c671",
   "metadata": {},
   "source": [
    "### Checking Accuracy using a different decile threshold"
   ]
  },
  {
   "cell_type": "code",
   "execution_count": 23,
   "id": "02af7122",
   "metadata": {},
   "outputs": [],
   "source": [
    "X_train['prediction']=lgbm_model.predict(X_train)\n",
    "X_train['decile'] = pd.qcut(X_train['prediction'], 10, labels=False)"
   ]
  },
  {
   "cell_type": "code",
   "execution_count": 24,
   "id": "1d6d9dc8",
   "metadata": {},
   "outputs": [
    {
     "name": "stdout",
     "output_type": "stream",
     "text": [
      "accuracy:  56.23757720711031\n",
      "auc:  56.23757720711032\n",
      "precision_score:  65.59488165667932\n",
      "recall_score:  26.236373428942333\n"
     ]
    }
   ],
   "source": [
    "# At top 2 Decile\n",
    "X_train['predict_fraud'] = np.where(X_train['decile']>=8, 1, 0)\n",
    "\n",
    "print(\"accuracy: \",accuracy_score(y_train,X_train['predict_fraud'])*100)\n",
    "print(\"auc: \",roc_auc_score(y_train,X_train['predict_fraud'])*100)\n",
    "print(\"precision_score: \",precision_score(y_train,X_train['predict_fraud'])*100)\n",
    "print(\"recall_score: \",recall_score(y_train,X_train['predict_fraud'])*100)"
   ]
  },
  {
   "cell_type": "code",
   "execution_count": 26,
   "id": "b0972122",
   "metadata": {},
   "outputs": [],
   "source": [
    "test['prediction']=lgbm_model.predict(test[feature_cols])\n",
    "test['decile'] = pd.qcut(test['prediction'], 10, labels=False)"
   ]
  },
  {
   "cell_type": "code",
   "execution_count": 27,
   "id": "a7970c2e",
   "metadata": {},
   "outputs": [
    {
     "name": "stdout",
     "output_type": "stream",
     "text": [
      "accuracy:  78.63275854831245\n",
      "auc:  57.241202605001504\n",
      "precision_score:  7.176860719091891\n",
      "recall_score:  33.86855749307229\n"
     ]
    }
   ],
   "source": [
    "# At top 2 Decile\n",
    "test['predict_fraud'] = np.where(test['decile']>=8, 1, 0)\n",
    "\n",
    "print(\"accuracy: \",accuracy_score(test['isFraud'],test['predict_fraud'])*100)\n",
    "print(\"auc: \",roc_auc_score(test['isFraud'],test['predict_fraud'])*100)\n",
    "print(\"precision_score: \",precision_score(test['isFraud'],test['predict_fraud'])*100)\n",
    "print(\"recall_score: \",recall_score(test['isFraud'],test['predict_fraud'])*100)"
   ]
  },
  {
   "cell_type": "markdown",
   "id": "590c3788",
   "metadata": {},
   "source": [
    "## Profiling"
   ]
  },
  {
   "cell_type": "code",
   "execution_count": 28,
   "id": "513208bc",
   "metadata": {},
   "outputs": [
    {
     "data": {
      "text/plain": [
       "<AxesSubplot:xlabel='predict_fraud', ylabel='count'>"
      ]
     },
     "execution_count": 28,
     "metadata": {},
     "output_type": "execute_result"
    },
    {
     "data": {
      "image/png": "[encoded data removed]",
      "text/plain": [
       "<Figure size 432x288 with 1 Axes>"
      ]
     },
     "metadata": {
      "needs_background": "light"
     },
     "output_type": "display_data"
    }
   ],
   "source": [
    "import seaborn as sns\n",
    "sns.countplot(x='predict_fraud', data=test)"
   ]
  },
  {
   "cell_type": "code",
   "execution_count": 29,
   "id": "4fe7aeb2",
   "metadata": {},
   "outputs": [
    {
     "name": "stdout",
     "output_type": "stream",
     "text": [
      "Plot feature importances...\n"
     ]
    },
    {
     "data": {
      "image/png": "[encoded data removed]",
      "text/plain": [
       "<Figure size 432x288 with 1 Axes>"
      ]
     },
     "metadata": {
      "needs_background": "light"
     },
     "output_type": "display_data"
    }
   ],
   "source": [
    "print('Plot feature importances...')\n",
    "ax = lgb.plot_importance(lgbm_model, max_num_features=15)\n",
    "plt.show()"
   ]
  },
  {
   "cell_type": "code",
   "execution_count": 30,
   "id": "4ff2c872",
   "metadata": {},
   "outputs": [],
   "source": [
    "feature_cols = ['ip_count', 'app_count', 'device_count','os_count', 'channel_count',\n",
    "               'ip_cb', 'app_cb', 'device_cb','os_cb', 'channel_cb']"
   ]
  },
  {
   "cell_type": "code",
   "execution_count": 31,
   "id": "fdced4ad",
   "metadata": {},
   "outputs": [],
   "source": [
    "profile_df = test.groupby('predict_fraud').agg({'ip_cb': ['mean'],\n",
    "                                               'app_cb': ['mean'],\n",
    "                                               'os_cb': ['mean'],\n",
    "                                               'device_cb': ['mean'],\n",
    "                                               'channel_cb': ['mean'],\n",
    "                                               'ip_count': ['mean'],\n",
    "                                               'app_count': ['mean'],\n",
    "                                               'os_count': ['mean'],\n",
    "                                               'device_count': ['mean'],\n",
    "                                               'channel_count': ['mean']\n",
    "                                               })\n",
    "\n",
    "# rename columns\n",
    "profile_df.columns = ['ip_cb', 'app_cb', 'device_cb','os_cb', 'channel_cb','ip_count', 'app_count', 'device_count','os_count', 'channel_count']\n",
    "\n",
    "# reset index to get grouped columns back\n",
    "profile_df = profile_df.reset_index()\n",
    "\n"
   ]
  },
  {
   "cell_type": "code",
   "execution_count": 32,
   "id": "a15131c8",
   "metadata": {},
   "outputs": [
    {
     "data": {
      "image/png": "[encoded data removed]",
      "text/plain": [
       "<Figure size 432x288 with 1 Axes>"
      ]
     },
     "metadata": {},
     "output_type": "display_data"
    }
   ],
   "source": [
    "# Set Seaborn style\n",
    "sns.set_style('darkgrid')\n",
    "\n",
    "\n",
    "# Construct plot\n",
    "sns.barplot(x = \"predict_fraud\", y = \"ip_cb\", data = profile_df)\n",
    "plt.show()"
   ]
  },
  {
   "cell_type": "code",
   "execution_count": 33,
   "id": "ab3903fa",
   "metadata": {},
   "outputs": [
    {
     "data": {
      "image/png": "[encoded data removed]",
      "text/plain": [
       "<Figure size 432x288 with 1 Axes>"
      ]
     },
     "metadata": {},
     "output_type": "display_data"
    }
   ],
   "source": [
    "# Set Seaborn style\n",
    "sns.set_style('darkgrid')\n",
    "\n",
    "\n",
    "# Construct plot\n",
    "sns.barplot(x = \"predict_fraud\", y = \"app_cb\", data = profile_df)\n",
    "plt.show()"
   ]
  },
  {
   "cell_type": "code",
   "execution_count": 34,
   "id": "a3914fa5",
   "metadata": {},
   "outputs": [
    {
     "data": {
      "image/png": "[encoded data removed]",
      "text/plain": [
       "<Figure size 432x288 with 1 Axes>"
      ]
     },
     "metadata": {},
     "output_type": "display_data"
    }
   ],
   "source": [
    "# Set Seaborn style\n",
    "sns.set_style('darkgrid')\n",
    "\n",
    "\n",
    "# Construct plot\n",
    "sns.barplot(x = \"predict_fraud\", y = \"device_cb\", data = profile_df)\n",
    "plt.show()"
   ]
  },
  {
   "cell_type": "code",
   "execution_count": 35,
   "id": "4d0d348c",
   "metadata": {},
   "outputs": [
    {
     "data": {
      "image/png": "[encoded data removed]",
      "text/plain": [
       "<Figure size 432x288 with 1 Axes>"
      ]
     },
     "metadata": {},
     "output_type": "display_data"
    }
   ],
   "source": [
    "# Set Seaborn style\n",
    "sns.set_style('darkgrid')\n",
    "\n",
    "\n",
    "# Construct plot\n",
    "sns.barplot(x = \"predict_fraud\", y = \"os_cb\", data = profile_df)\n",
    "plt.show()"
   ]
  },
  {
   "cell_type": "code",
   "execution_count": 36,
   "id": "90ac8498",
   "metadata": {},
   "outputs": [
    {
     "data": {
      "image/png": "[encoded data removed]",
      "text/plain": [
       "<Figure size 432x288 with 1 Axes>"
      ]
     },
     "metadata": {},
     "output_type": "display_data"
    }
   ],
   "source": [
    "# Set Seaborn style\n",
    "sns.set_style('darkgrid')\n",
    "\n",
    "\n",
    "# Construct plot\n",
    "sns.barplot(x = \"predict_fraud\", y = \"channel_cb\", data = profile_df)\n",
    "plt.show()"
   ]
  },
  {
   "cell_type": "code",
   "execution_count": 37,
   "id": "07f10244",
   "metadata": {},
   "outputs": [
    {
     "data": {
      "image/png": "[encoded data removed]",
      "text/plain": [
       "<Figure size 432x288 with 1 Axes>"
      ]
     },
     "metadata": {},
     "output_type": "display_data"
    }
   ],
   "source": [
    "# Set Seaborn style\n",
    "sns.set_style('darkgrid')\n",
    "\n",
    "\n",
    "# Construct plot\n",
    "sns.barplot(x = \"predict_fraud\", y = \"ip_count\", data = profile_df)\n",
    "plt.show()"
   ]
  },
  {
   "cell_type": "code",
   "execution_count": 38,
   "id": "1d312bf1",
   "metadata": {},
   "outputs": [
    {
     "data": {
      "image/png": "[encoded data removed]",
      "text/plain": [
       "<Figure size 432x288 with 1 Axes>"
      ]
     },
     "metadata": {},
     "output_type": "display_data"
    }
   ],
   "source": [
    "# Set Seaborn style\n",
    "sns.set_style('darkgrid')\n",
    "\n",
    "\n",
    "# Construct plot\n",
    "sns.barplot(x = \"predict_fraud\", y = \"app_count\", data = profile_df)\n",
    "plt.show()"
   ]
  },
  {
   "cell_type": "code",
   "execution_count": 39,
   "id": "1817429d",
   "metadata": {},
   "outputs": [
    {
     "data": {
      "image/png": "[encoded data removed]",
      "text/plain": [
       "<Figure size 432x288 with 1 Axes>"
      ]
     },
     "metadata": {},
     "output_type": "display_data"
    }
   ],
   "source": [
    "# Set Seaborn style\n",
    "sns.set_style('darkgrid')\n",
    "\n",
    "\n",
    "# Construct plot\n",
    "sns.barplot(x = \"predict_fraud\", y = \"device_count\", data = profile_df)\n",
    "plt.show()"
   ]
  },
  {
   "cell_type": "code",
   "execution_count": 40,
   "id": "743408c6",
   "metadata": {},
   "outputs": [
    {
     "data": {
      "image/png": "[encoded data removed]",
      "text/plain": [
       "<Figure size 432x288 with 1 Axes>"
      ]
     },
     "metadata": {},
     "output_type": "display_data"
    }
   ],
   "source": [
    "# Set Seaborn style\n",
    "sns.set_style('darkgrid')\n",
    "\n",
    "\n",
    "# Construct plot\n",
    "sns.barplot(x = \"predict_fraud\", y = \"channel_count\", data = profile_df)\n",
    "plt.show()"
   ]
  },
  {
   "cell_type": "markdown",
   "id": "c380b7f8",
   "metadata": {},
   "source": [
    "## Model Explainer - SHAP"
   ]
  },
  {
   "cell_type": "code",
   "execution_count": 41,
   "id": "96319dcb",
   "metadata": {},
   "outputs": [],
   "source": [
    "import joblib\n",
    "lgbm_model = joblib.load('lgb_count_cat_15s_v2.pkl')\n",
    "\n",
    "feature_cols = ['ip_count', 'app_count', 'device_count','os_count', 'channel_count',\n",
    "               'ip_cb', 'app_cb', 'device_cb','os_cb', 'channel_cb']\n",
    "\n",
    "X_train = X_train[feature_cols]\n",
    "X_test = test[feature_cols]"
   ]
  },
  {
   "cell_type": "code",
   "execution_count": 42,
   "id": "905a69fe",
   "metadata": {},
   "outputs": [
    {
     "data": {
      "text/html": [
       "<div>\n",
       "<style scoped>\n",
       "    .dataframe tbody tr th:only-of-type {\n",
       "        vertical-align: middle;\n",
       "    }\n",
       "\n",
       "    .dataframe tbody tr th {\n",
       "        vertical-align: top;\n",
       "    }\n",
       "\n",
       "    .dataframe thead th {\n",
       "        text-align: right;\n",
       "    }\n",
       "</style>\n",
       "<table border=\"1\" class=\"dataframe\">\n",
       "  <thead>\n",
       "    <tr style=\"text-align: right;\">\n",
       "      <th></th>\n",
       "      <th>ip_count</th>\n",
       "      <th>app_count</th>\n",
       "      <th>device_count</th>\n",
       "      <th>os_count</th>\n",
       "      <th>channel_count</th>\n",
       "      <th>ip_cb</th>\n",
       "      <th>app_cb</th>\n",
       "      <th>device_cb</th>\n",
       "      <th>os_cb</th>\n",
       "      <th>channel_cb</th>\n",
       "    </tr>\n",
       "  </thead>\n",
       "  <tbody>\n",
       "    <tr>\n",
       "      <th>0</th>\n",
       "      <td>12276</td>\n",
       "      <td>55560</td>\n",
       "      <td>3316701</td>\n",
       "      <td>53689</td>\n",
       "      <td>12473</td>\n",
       "      <td>0.484035</td>\n",
       "      <td>0.479878</td>\n",
       "      <td>0.498937</td>\n",
       "      <td>0.488201</td>\n",
       "      <td>0.483045</td>\n",
       "    </tr>\n",
       "    <tr>\n",
       "      <th>1</th>\n",
       "      <td>15471</td>\n",
       "      <td>512619</td>\n",
       "      <td>3316701</td>\n",
       "      <td>840458</td>\n",
       "      <td>165114</td>\n",
       "      <td>0.520844</td>\n",
       "      <td>0.404328</td>\n",
       "      <td>0.498937</td>\n",
       "      <td>0.495007</td>\n",
       "      <td>0.235851</td>\n",
       "    </tr>\n",
       "    <tr>\n",
       "      <th>2</th>\n",
       "      <td>11648</td>\n",
       "      <td>512619</td>\n",
       "      <td>3316701</td>\n",
       "      <td>840458</td>\n",
       "      <td>49928</td>\n",
       "      <td>0.434415</td>\n",
       "      <td>0.404328</td>\n",
       "      <td>0.498937</td>\n",
       "      <td>0.495007</td>\n",
       "      <td>0.497316</td>\n",
       "    </tr>\n",
       "    <tr>\n",
       "      <th>3</th>\n",
       "      <td>15030</td>\n",
       "      <td>512619</td>\n",
       "      <td>3316701</td>\n",
       "      <td>77418</td>\n",
       "      <td>27664</td>\n",
       "      <td>0.519360</td>\n",
       "      <td>0.404328</td>\n",
       "      <td>0.498937</td>\n",
       "      <td>0.505412</td>\n",
       "      <td>0.489120</td>\n",
       "    </tr>\n",
       "    <tr>\n",
       "      <th>4</th>\n",
       "      <td>15118</td>\n",
       "      <td>512619</td>\n",
       "      <td>3316701</td>\n",
       "      <td>188410</td>\n",
       "      <td>165114</td>\n",
       "      <td>0.493849</td>\n",
       "      <td>0.404328</td>\n",
       "      <td>0.498937</td>\n",
       "      <td>0.510307</td>\n",
       "      <td>0.235851</td>\n",
       "    </tr>\n",
       "    <tr>\n",
       "      <th>...</th>\n",
       "      <td>...</td>\n",
       "      <td>...</td>\n",
       "      <td>...</td>\n",
       "      <td>...</td>\n",
       "      <td>...</td>\n",
       "      <td>...</td>\n",
       "      <td>...</td>\n",
       "      <td>...</td>\n",
       "      <td>...</td>\n",
       "      <td>...</td>\n",
       "    </tr>\n",
       "    <tr>\n",
       "      <th>3538853</th>\n",
       "      <td>10866</td>\n",
       "      <td>517660</td>\n",
       "      <td>3316701</td>\n",
       "      <td>54805</td>\n",
       "      <td>307245</td>\n",
       "      <td>0.499540</td>\n",
       "      <td>0.529711</td>\n",
       "      <td>0.498937</td>\n",
       "      <td>0.494061</td>\n",
       "      <td>0.653803</td>\n",
       "    </tr>\n",
       "    <tr>\n",
       "      <th>3538854</th>\n",
       "      <td>17571</td>\n",
       "      <td>517660</td>\n",
       "      <td>3316701</td>\n",
       "      <td>100006</td>\n",
       "      <td>161586</td>\n",
       "      <td>0.534344</td>\n",
       "      <td>0.529711</td>\n",
       "      <td>0.498937</td>\n",
       "      <td>0.494880</td>\n",
       "      <td>0.559702</td>\n",
       "    </tr>\n",
       "    <tr>\n",
       "      <th>3538855</th>\n",
       "      <td>13365</td>\n",
       "      <td>398151</td>\n",
       "      <td>3316701</td>\n",
       "      <td>37683</td>\n",
       "      <td>161586</td>\n",
       "      <td>0.500112</td>\n",
       "      <td>0.565574</td>\n",
       "      <td>0.498937</td>\n",
       "      <td>0.492716</td>\n",
       "      <td>0.559702</td>\n",
       "    </tr>\n",
       "    <tr>\n",
       "      <th>3538856</th>\n",
       "      <td>13336</td>\n",
       "      <td>44739</td>\n",
       "      <td>3316701</td>\n",
       "      <td>102167</td>\n",
       "      <td>35772</td>\n",
       "      <td>0.509672</td>\n",
       "      <td>0.613601</td>\n",
       "      <td>0.498937</td>\n",
       "      <td>0.503000</td>\n",
       "      <td>0.588111</td>\n",
       "    </tr>\n",
       "    <tr>\n",
       "      <th>3538857</th>\n",
       "      <td>12624</td>\n",
       "      <td>517660</td>\n",
       "      <td>3316701</td>\n",
       "      <td>765698</td>\n",
       "      <td>307245</td>\n",
       "      <td>0.486376</td>\n",
       "      <td>0.529711</td>\n",
       "      <td>0.498937</td>\n",
       "      <td>0.502972</td>\n",
       "      <td>0.653803</td>\n",
       "    </tr>\n",
       "  </tbody>\n",
       "</table>\n",
       "<p>3538858 rows × 10 columns</p>\n",
       "</div>"
      ],
      "text/plain": [
       "         ip_count  app_count  device_count  os_count  channel_count     ip_cb  \\\n",
       "0           12276      55560       3316701     53689          12473  0.484035   \n",
       "1           15471     512619       3316701    840458         165114  0.520844   \n",
       "2           11648     512619       3316701    840458          49928  0.434415   \n",
       "3           15030     512619       3316701     77418          27664  0.519360   \n",
       "4           15118     512619       3316701    188410         165114  0.493849   \n",
       "...           ...        ...           ...       ...            ...       ...   \n",
       "3538853     10866     517660       3316701     54805         307245  0.499540   \n",
       "3538854     17571     517660       3316701    100006         161586  0.534344   \n",
       "3538855     13365     398151       3316701     37683         161586  0.500112   \n",
       "3538856     13336      44739       3316701    102167          35772  0.509672   \n",
       "3538857     12624     517660       3316701    765698         307245  0.486376   \n",
       "\n",
       "           app_cb  device_cb     os_cb  channel_cb  \n",
       "0        0.479878   0.498937  0.488201    0.483045  \n",
       "1        0.404328   0.498937  0.495007    0.235851  \n",
       "2        0.404328   0.498937  0.495007    0.497316  \n",
       "3        0.404328   0.498937  0.505412    0.489120  \n",
       "4        0.404328   0.498937  0.510307    0.235851  \n",
       "...           ...        ...       ...         ...  \n",
       "3538853  0.529711   0.498937  0.494061    0.653803  \n",
       "3538854  0.529711   0.498937  0.494880    0.559702  \n",
       "3538855  0.565574   0.498937  0.492716    0.559702  \n",
       "3538856  0.613601   0.498937  0.503000    0.588111  \n",
       "3538857  0.529711   0.498937  0.502972    0.653803  \n",
       "\n",
       "[3538858 rows x 10 columns]"
      ]
     },
     "execution_count": 42,
     "metadata": {},
     "output_type": "execute_result"
    }
   ],
   "source": [
    "X_train"
   ]
  },
  {
   "cell_type": "code",
   "execution_count": null,
   "id": "6bd84cd6",
   "metadata": {},
   "outputs": [],
   "source": [
    "import shap\n",
    "\n",
    "%time shap_values = shap.TreeExplainer(lgbm_model).shap_values(X_train)\n"
   ]
  },
  {
   "cell_type": "code",
   "execution_count": null,
   "id": "25c213ac",
   "metadata": {},
   "outputs": [],
   "source": [
    "shap.summary_plot(shap_values, valid_x)\n"
   ]
  }
 ],
 "metadata": {
  "kernelspec": {
   "display_name": "Python 3",
   "language": "python",
   "name": "python3"
  },
  "language_info": {
   "codemirror_mode": {
    "name": "ipython",
    "version": 3
   },
   "file_extension": ".py",
   "mimetype": "text/x-python",
   "name": "python",
   "nbconvert_exporter": "python",
   "pygments_lexer": "ipython3",
   "version": "3.8.8"
  }
 },
 "nbformat": 4,
 "nbformat_minor": 5
}
