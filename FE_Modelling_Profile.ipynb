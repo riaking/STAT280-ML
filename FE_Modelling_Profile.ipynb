{
 "cells": [
  {
   "cell_type": "markdown",
   "metadata": {},
   "source": [
    "#### Libraries Installation\n",
    "!pip install outlier_utils\n",
    "!pip install imbalanced-learn \n",
    "!pip install delayed\n",
    "!pip install missingno\n",
    "!pip install plotly\n",
    "!pip install lightgbm\n",
    "!pip install xgboost\n",
    "!pip install category_encoders\n",
    "!pip install shap"
   ]
  },
  {
   "cell_type": "code",
   "execution_count": 1,
   "metadata": {},
   "outputs": [],
   "source": [
    "import pandas as pd\n",
    "import numpy as np\n",
    "import matplotlib.pyplot as plt\n",
    "import seaborn as sns\n",
    "\n",
    "import warnings\n",
    "warnings.filterwarnings('ignore')\n",
    "\n",
    "# allows us to implement a train test split strategy\n",
    "from sklearn.model_selection import train_test_split\n",
    "\n",
    "# access to the logistic regression class of Sklearn\n",
    "from sklearn.linear_model import LogisticRegression\n",
    "\n",
    "# access to the neural network model MLP Classifier\n",
    "from sklearn.neural_network import MLPClassifier\n",
    "\n",
    "# classification metrics\n",
    "from sklearn import metrics\n",
    "from sklearn.metrics import accuracy_score\n",
    "from sklearn.metrics import confusion_matrix\n",
    "from sklearn.metrics import precision_score\n",
    "from sklearn.metrics import recall_score\n",
    "from sklearn.metrics import auc\n",
    "from sklearn.metrics import RocCurveDisplay\n",
    "from sklearn.metrics import roc_curve\n",
    "from sklearn.metrics import roc_auc_score"
   ]
  },
  {
   "cell_type": "markdown",
   "metadata": {},
   "source": [
    "## TRAIN TEST SPLIT"
   ]
  },
  {
   "cell_type": "code",
   "execution_count": null,
   "metadata": {},
   "outputs": [],
   "source": [
    "# Read Training Set\n",
    "df = pd.read_csv('train.csv',dtype={\n",
    "                             'ip': np.uint8,\n",
    "                             'app': np.uint8,\n",
    "                             'device' : np.uint8,\n",
    "                             'os' : np.uint8,\n",
    "                             'channel' : np.uint8,\n",
    "                             'is_attributed' : np.uint8    \n",
    "                        },parse_dates=['click_time'])"
   ]
  },
  {
   "cell_type": "code",
   "execution_count": null,
   "metadata": {},
   "outputs": [],
   "source": [
    "df['day'] = df['click_time'].dt.day.astype('uint8')\n",
    "# Get oot\n",
    "#oot = df[df['day']==8]\n",
    "\n",
    "# Get Train\n",
    "df = df[df['day']==7]"
   ]
  },
  {
   "cell_type": "code",
   "execution_count": null,
   "metadata": {},
   "outputs": [],
   "source": [
    "df['hour'] = df['click_time'].dt.hour.astype('uint8')\n",
    "df['minute'] = df['click_time'].dt.minute.astype('uint8')\n",
    "df['second'] = df['click_time'].dt.second.astype('uint8')\n",
    "\n",
    "#Edit minute variable to two-digit string\n",
    "df['minute'] = df['minute'].apply(lambda x: '{0:0>2}'.format(x))"
   ]
  },
  {
   "cell_type": "code",
   "execution_count": null,
   "metadata": {},
   "outputs": [],
   "source": [
    "click_outlier = 14507.5\n",
    "ratio_outlier = 812.8342105263157"
   ]
  },
  {
   "cell_type": "code",
   "execution_count": null,
   "metadata": {},
   "outputs": [],
   "source": [
    "# Transform\n",
    "\n",
    "ranges = [-1, 14, 29, 44, np.inf]  # np.inf for infinity\n",
    "labels = ['1', '2', '3', '4']\n",
    "df['seconds_grp'] = pd.cut(df['second'], \n",
    "                                  bins=ranges, \n",
    "                                  labels=labels)\n",
    "df['interval'] = df['hour'].astype(str) + df['minute'].astype(str) + df['seconds_grp'].astype(str)\n",
    "#df['interval'] = df['interval'].astype('uint32')\n",
    "\n",
    "df_interval = df.groupby(\n",
    "    'interval'\n",
    ").aggregate(\n",
    "    {\n",
    "        'is_attributed':sum,\n",
    "        'click_time':\"count\"\n",
    "    }\n",
    ").rename(\n",
    "    columns = {\n",
    "        'is_attributed': 'total_dl', \n",
    "        'click_time': 'total_clicks'\n",
    "    }, \n",
    "    inplace = False)\n",
    "\n",
    "df_interval['conversion_rate'] = df_interval['total_dl']/df_interval['total_clicks']\n",
    "df_interval['ratio'] = df_interval['total_clicks']/df_interval['total_dl']\n",
    "df_interval.reset_index(level=0, inplace=True)\n",
    "\n",
    "df_interval.loc[(df_interval['total_dl'] == 0) & (df_interval['total_clicks'] > click_outlier), 'isFraud'] = 1\n",
    "df_interval.loc[(df_interval['total_dl'] != 0) & (df_interval['ratio'] > ratio_outlier), 'isFraud'] = 1\n",
    "df_interval.loc[(df_interval['isFraud'].isnull()), 'isFraud'] = 0\n",
    "\n",
    "df = pd.merge(df, df_interval[['interval', 'isFraud']], on='interval', how='left')\n",
    "\n",
    "df.head()"
   ]
  },
  {
   "cell_type": "code",
   "execution_count": null,
   "metadata": {},
   "outputs": [],
   "source": [
    "from sklearn.model_selection import train_test_split\n",
    "\n",
    "train, test = train_test_split(df, test_size=0.3, random_state = 280)"
   ]
  },
  {
   "cell_type": "code",
   "execution_count": null,
   "metadata": {},
   "outputs": [],
   "source": [
    "print(train.isFraud.sum()/len(train))\n",
    "print(test.isFraud.sum()/len(test))"
   ]
  },
  {
   "cell_type": "code",
   "execution_count": null,
   "metadata": {},
   "outputs": [],
   "source": [
    "train = train.drop([\"click_time\",\"attributed_time\", \"is_attributed\", \"interval\", \"day\", \"hour\", \"minute\", \"second\", \"seconds_grp\"], axis=1)\n",
    "test = test.drop([\"click_time\",\"attributed_time\", \"is_attributed\", \"interval\", \"day\", \"hour\", \"minute\", \"second\", \"seconds_grp\"], axis=1)"
   ]
  },
  {
   "cell_type": "code",
   "execution_count": null,
   "metadata": {},
   "outputs": [],
   "source": [
    "from imblearn.under_sampling import RandomUnderSampler\n",
    "rus = RandomUnderSampler(random_state=280)\n",
    "\n",
    "y_train = train['isFraud']\n",
    "X_train = train.drop('isFraud', axis = 1)\n",
    "\n",
    "X_train, y_train = rus.fit_resample(X_train, y_train)\n",
    "\n",
    "from collections import Counter\n",
    "\n",
    "Counter(y_train)"
   ]
  },
  {
   "cell_type": "code",
   "execution_count": null,
   "metadata": {},
   "outputs": [],
   "source": [
    "X_train.to_csv('X_train_15s_full.csv', index=False)\n",
    "y_train.to_csv('y_train_15s_full.csv', index=False)\n",
    "test.to_csv('test_15s_full.csv', index=False)"
   ]
  },
  {
   "cell_type": "code",
   "execution_count": null,
   "metadata": {},
   "outputs": [],
   "source": [
    "X_train.to_csv('X_train_15s.csv', index=False)\n",
    "y_train.to_csv('y_train_15s.csv', index=False)\n",
    "test.to_csv('test_15s.csv', index=False)"
   ]
  },
  {
   "cell_type": "markdown",
   "metadata": {},
   "source": [
    "## Data Prep / Feature Engineering"
   ]
  },
  {
   "cell_type": "code",
   "execution_count": 2,
   "metadata": {},
   "outputs": [],
   "source": [
    "# Read Data From Train-Test Split\n",
    "\n",
    "X_train = pd.read_csv('X_train_15s.csv')\n",
    "y_train = pd.read_csv('y_train_15s.csv')\n",
    "test = pd.read_csv('test_15s.csv')"
   ]
  },
  {
   "cell_type": "code",
   "execution_count": 3,
   "metadata": {},
   "outputs": [],
   "source": [
    "import category_encoders as ce\n",
    "cat_features = ['ip', 'app', 'device', 'os', 'channel']\n",
    "count_enc = ce.CountEncoder(cols=cat_features)\n",
    "count_enc.fit(X_train)\n",
    "\n",
    "X_train = X_train.join(count_enc.transform(X_train[cat_features]).add_suffix(\"_count\"))\n",
    "test = test.join(count_enc.transform(test[cat_features]).add_suffix(\"_count\"))"
   ]
  },
  {
   "cell_type": "code",
   "execution_count": 4,
   "metadata": {},
   "outputs": [],
   "source": [
    "# Define catboost encoder\n",
    "cbe_encoder = ce.cat_boost.CatBoostEncoder(cols=cat_features, random_state=1234)\n",
    "  \n",
    "# Fit encoder and transform the features\n",
    "cbe_encoder.fit(X_train[cat_features], y_train)\n",
    "\n",
    "X_train = X_train.join(cbe_encoder.transform(X_train[cat_features]).add_suffix(\"_cb\"))\n",
    "test = test.join(cbe_encoder.transform(test[cat_features]).add_suffix(\"_cb\"))"
   ]
  },
  {
   "cell_type": "code",
   "execution_count": 5,
   "metadata": {},
   "outputs": [],
   "source": [
    "feature_cols = ['ip_count', 'app_count', 'device_count','os_count', 'channel_count',\n",
    "               'ip_cb', 'app_cb', 'device_cb','os_cb', 'channel_cb']"
   ]
  },
  {
   "cell_type": "code",
   "execution_count": 6,
   "metadata": {},
   "outputs": [],
   "source": [
    "X_train = X_train[feature_cols]\n",
    "X_test = test[feature_cols]"
   ]
  },
  {
   "cell_type": "code",
   "execution_count": 7,
   "metadata": {},
   "outputs": [
    {
     "data": {
      "text/plain": [
       "StandardScaler()"
      ]
     },
     "execution_count": 7,
     "metadata": {},
     "output_type": "execute_result"
    }
   ],
   "source": [
    "from sklearn.preprocessing import StandardScaler\n",
    "\n",
    "scaler = StandardScaler()\n",
    "scaler.fit(X_train)\n",
    "\n",
    "scaler.fit(X_test)"
   ]
  },
  {
   "cell_type": "code",
   "execution_count": 8,
   "metadata": {},
   "outputs": [
    {
     "name": "stdout",
     "output_type": "stream",
     "text": [
      "isFraud    0.5\n",
      "dtype: float64\n",
      "0.04242265494458271\n"
     ]
    }
   ],
   "source": [
    "# Check event rate\n",
    "print(y_train.sum()/len(y_train))\n",
    "print(test.isFraud.sum()/len(test))"
   ]
  },
  {
   "cell_type": "markdown",
   "metadata": {},
   "source": [
    "## Modelling"
   ]
  },
  {
   "cell_type": "code",
   "execution_count": 10,
   "metadata": {},
   "outputs": [
    {
     "name": "stdout",
     "output_type": "stream",
     "text": [
      "[LightGBM] [Info] Number of positive: 1771031, number of negative: 1771031\n",
      "[LightGBM] [Warning] Auto-choosing row-wise multi-threading, the overhead of testing was 0.045503 seconds.\n",
      "You can set `force_row_wise=true` to remove the overhead.\n",
      "And if memory is not enough, you can set `force_col_wise=true`.\n",
      "[LightGBM] [Info] Total Bins 488\n",
      "[LightGBM] [Info] Number of data points in the train set: 3542062, number of used features: 10\n",
      "[LightGBM] [Info] [binary:BoostFromScore]: pavg=0.500000 -> initscore=0.000000\n",
      "[1]\tvalid_0's auc: 0.6183\n",
      "[2]\tvalid_0's auc: 0.618722\n",
      "[3]\tvalid_0's auc: 0.618938\n",
      "[4]\tvalid_0's auc: 0.619086\n",
      "[5]\tvalid_0's auc: 0.619235\n",
      "[6]\tvalid_0's auc: 0.619317\n",
      "[7]\tvalid_0's auc: 0.619568\n",
      "[8]\tvalid_0's auc: 0.619618\n",
      "[9]\tvalid_0's auc: 0.619727\n",
      "[10]\tvalid_0's auc: 0.619851\n",
      "[11]\tvalid_0's auc: 0.619911\n",
      "[12]\tvalid_0's auc: 0.620035\n",
      "[13]\tvalid_0's auc: 0.620058\n",
      "[14]\tvalid_0's auc: 0.620114\n",
      "[15]\tvalid_0's auc: 0.620179\n",
      "[16]\tvalid_0's auc: 0.620188\n",
      "[17]\tvalid_0's auc: 0.620245\n",
      "[18]\tvalid_0's auc: 0.620286\n",
      "[19]\tvalid_0's auc: 0.620333\n",
      "[20]\tvalid_0's auc: 0.620383\n",
      "[21]\tvalid_0's auc: 0.620473\n",
      "[22]\tvalid_0's auc: 0.620485\n",
      "[23]\tvalid_0's auc: 0.620461\n",
      "[24]\tvalid_0's auc: 0.620476\n",
      "[25]\tvalid_0's auc: 0.620479\n",
      "[26]\tvalid_0's auc: 0.620537\n",
      "[27]\tvalid_0's auc: 0.620564\n",
      "[28]\tvalid_0's auc: 0.62061\n",
      "[29]\tvalid_0's auc: 0.620655\n",
      "[30]\tvalid_0's auc: 0.620702\n",
      "[31]\tvalid_0's auc: 0.620759\n",
      "[32]\tvalid_0's auc: 0.620812\n",
      "[33]\tvalid_0's auc: 0.620917\n",
      "[34]\tvalid_0's auc: 0.62091\n",
      "[35]\tvalid_0's auc: 0.620969\n",
      "[36]\tvalid_0's auc: 0.620987\n",
      "[37]\tvalid_0's auc: 0.621018\n",
      "[38]\tvalid_0's auc: 0.621074\n",
      "[39]\tvalid_0's auc: 0.621103\n",
      "[40]\tvalid_0's auc: 0.621107\n",
      "[41]\tvalid_0's auc: 0.621173\n",
      "[42]\tvalid_0's auc: 0.621221\n",
      "[43]\tvalid_0's auc: 0.621218\n",
      "[44]\tvalid_0's auc: 0.621285\n",
      "[45]\tvalid_0's auc: 0.621354\n",
      "[46]\tvalid_0's auc: 0.621364\n",
      "[47]\tvalid_0's auc: 0.621364\n",
      "[48]\tvalid_0's auc: 0.621386\n",
      "[49]\tvalid_0's auc: 0.621429\n",
      "[50]\tvalid_0's auc: 0.621501\n",
      "[51]\tvalid_0's auc: 0.621499\n",
      "[52]\tvalid_0's auc: 0.621517\n",
      "[53]\tvalid_0's auc: 0.621526\n",
      "[54]\tvalid_0's auc: 0.621509\n",
      "[55]\tvalid_0's auc: 0.621509\n",
      "[56]\tvalid_0's auc: 0.621526\n",
      "[57]\tvalid_0's auc: 0.621538\n",
      "[58]\tvalid_0's auc: 0.62153\n",
      "[59]\tvalid_0's auc: 0.621531\n",
      "[60]\tvalid_0's auc: 0.621525\n",
      "[61]\tvalid_0's auc: 0.621522\n",
      "[62]\tvalid_0's auc: 0.621517\n",
      "[63]\tvalid_0's auc: 0.621505\n",
      "[64]\tvalid_0's auc: 0.621519\n",
      "[65]\tvalid_0's auc: 0.621529\n",
      "[66]\tvalid_0's auc: 0.621594\n",
      "[67]\tvalid_0's auc: 0.621646\n",
      "[68]\tvalid_0's auc: 0.621687\n",
      "[69]\tvalid_0's auc: 0.621735\n",
      "[70]\tvalid_0's auc: 0.621781\n",
      "[71]\tvalid_0's auc: 0.621856\n",
      "[72]\tvalid_0's auc: 0.621915\n",
      "[73]\tvalid_0's auc: 0.621901\n",
      "[74]\tvalid_0's auc: 0.621901\n",
      "[75]\tvalid_0's auc: 0.621876\n",
      "[76]\tvalid_0's auc: 0.62187\n",
      "[77]\tvalid_0's auc: 0.621868\n",
      "[78]\tvalid_0's auc: 0.621869\n",
      "[79]\tvalid_0's auc: 0.621873\n",
      "[80]\tvalid_0's auc: 0.62188\n",
      "[81]\tvalid_0's auc: 0.621915\n",
      "[82]\tvalid_0's auc: 0.621957\n",
      "[83]\tvalid_0's auc: 0.621953\n",
      "[84]\tvalid_0's auc: 0.621949\n",
      "[85]\tvalid_0's auc: 0.621947\n",
      "[86]\tvalid_0's auc: 0.621971\n",
      "[87]\tvalid_0's auc: 0.622001\n",
      "[88]\tvalid_0's auc: 0.621988\n",
      "[89]\tvalid_0's auc: 0.622008\n",
      "[90]\tvalid_0's auc: 0.62201\n",
      "[91]\tvalid_0's auc: 0.622012\n",
      "[92]\tvalid_0's auc: 0.622024\n",
      "[93]\tvalid_0's auc: 0.62204\n",
      "[94]\tvalid_0's auc: 0.622043\n",
      "[95]\tvalid_0's auc: 0.622072\n",
      "[96]\tvalid_0's auc: 0.622068\n",
      "[97]\tvalid_0's auc: 0.622083\n",
      "[98]\tvalid_0's auc: 0.622116\n",
      "[99]\tvalid_0's auc: 0.62211\n",
      "[100]\tvalid_0's auc: 0.622143\n",
      "[101]\tvalid_0's auc: 0.622152\n",
      "[102]\tvalid_0's auc: 0.622197\n",
      "[103]\tvalid_0's auc: 0.6222\n",
      "[104]\tvalid_0's auc: 0.622203\n",
      "[105]\tvalid_0's auc: 0.622201\n",
      "[106]\tvalid_0's auc: 0.62223\n",
      "[107]\tvalid_0's auc: 0.622252\n",
      "[108]\tvalid_0's auc: 0.622297\n",
      "[109]\tvalid_0's auc: 0.622287\n",
      "[110]\tvalid_0's auc: 0.622283\n",
      "[111]\tvalid_0's auc: 0.622326\n",
      "[112]\tvalid_0's auc: 0.622361\n",
      "[113]\tvalid_0's auc: 0.62235\n",
      "[114]\tvalid_0's auc: 0.622348\n",
      "[115]\tvalid_0's auc: 0.622346\n",
      "[116]\tvalid_0's auc: 0.622335\n",
      "[117]\tvalid_0's auc: 0.622331\n",
      "[118]\tvalid_0's auc: 0.622326\n",
      "[119]\tvalid_0's auc: 0.622328\n",
      "[120]\tvalid_0's auc: 0.622331\n",
      "[121]\tvalid_0's auc: 0.622336\n",
      "[122]\tvalid_0's auc: 0.622343\n",
      "[123]\tvalid_0's auc: 0.622385\n",
      "[124]\tvalid_0's auc: 0.622375\n",
      "[125]\tvalid_0's auc: 0.622422\n",
      "[126]\tvalid_0's auc: 0.622415\n",
      "[127]\tvalid_0's auc: 0.622416\n",
      "[128]\tvalid_0's auc: 0.622409\n",
      "[129]\tvalid_0's auc: 0.62243\n",
      "[130]\tvalid_0's auc: 0.622443\n",
      "[131]\tvalid_0's auc: 0.622489\n",
      "[132]\tvalid_0's auc: 0.622484\n",
      "[133]\tvalid_0's auc: 0.622559\n",
      "[134]\tvalid_0's auc: 0.622555\n",
      "[135]\tvalid_0's auc: 0.622542\n",
      "[136]\tvalid_0's auc: 0.622574\n",
      "[137]\tvalid_0's auc: 0.622569\n",
      "[138]\tvalid_0's auc: 0.622574\n",
      "[139]\tvalid_0's auc: 0.622572\n",
      "[140]\tvalid_0's auc: 0.622633\n",
      "[141]\tvalid_0's auc: 0.622635\n",
      "[142]\tvalid_0's auc: 0.622631\n",
      "[143]\tvalid_0's auc: 0.622643\n",
      "[144]\tvalid_0's auc: 0.622644\n",
      "[145]\tvalid_0's auc: 0.622681\n",
      "[146]\tvalid_0's auc: 0.622674\n",
      "[147]\tvalid_0's auc: 0.622702\n",
      "[148]\tvalid_0's auc: 0.622716\n",
      "[149]\tvalid_0's auc: 0.622709\n",
      "[150]\tvalid_0's auc: 0.62273\n",
      "[151]\tvalid_0's auc: 0.622773\n",
      "[152]\tvalid_0's auc: 0.622763\n",
      "[153]\tvalid_0's auc: 0.622759\n",
      "[154]\tvalid_0's auc: 0.622789\n",
      "[155]\tvalid_0's auc: 0.622844\n",
      "[156]\tvalid_0's auc: 0.622874\n",
      "[157]\tvalid_0's auc: 0.622924\n",
      "[158]\tvalid_0's auc: 0.622912\n",
      "[159]\tvalid_0's auc: 0.622904\n",
      "[160]\tvalid_0's auc: 0.622915\n",
      "[161]\tvalid_0's auc: 0.622907\n",
      "[162]\tvalid_0's auc: 0.622944\n",
      "[163]\tvalid_0's auc: 0.622945\n",
      "[164]\tvalid_0's auc: 0.622977\n",
      "[165]\tvalid_0's auc: 0.622967\n",
      "[166]\tvalid_0's auc: 0.623003\n",
      "[167]\tvalid_0's auc: 0.623\n",
      "[168]\tvalid_0's auc: 0.623008\n",
      "[169]\tvalid_0's auc: 0.622999\n",
      "[170]\tvalid_0's auc: 0.623012\n",
      "[171]\tvalid_0's auc: 0.623049\n",
      "[172]\tvalid_0's auc: 0.623088\n",
      "[173]\tvalid_0's auc: 0.623081\n",
      "[174]\tvalid_0's auc: 0.623073\n",
      "[175]\tvalid_0's auc: 0.623122\n",
      "[176]\tvalid_0's auc: 0.623161\n",
      "[177]\tvalid_0's auc: 0.6232\n",
      "[178]\tvalid_0's auc: 0.62319\n",
      "[179]\tvalid_0's auc: 0.623189\n",
      "[180]\tvalid_0's auc: 0.62319\n",
      "[181]\tvalid_0's auc: 0.623213\n",
      "[182]\tvalid_0's auc: 0.623237\n",
      "[183]\tvalid_0's auc: 0.623238\n",
      "[184]\tvalid_0's auc: 0.623229\n",
      "[185]\tvalid_0's auc: 0.623258\n",
      "[186]\tvalid_0's auc: 0.623277\n",
      "[187]\tvalid_0's auc: 0.623305\n",
      "[188]\tvalid_0's auc: 0.623297\n",
      "[189]\tvalid_0's auc: 0.62329\n",
      "[190]\tvalid_0's auc: 0.623319\n",
      "[191]\tvalid_0's auc: 0.623334\n",
      "[192]\tvalid_0's auc: 0.623332\n",
      "[193]\tvalid_0's auc: 0.623325\n",
      "[194]\tvalid_0's auc: 0.62332\n",
      "[195]\tvalid_0's auc: 0.623338\n",
      "[196]\tvalid_0's auc: 0.623329\n",
      "[197]\tvalid_0's auc: 0.623332\n",
      "[198]\tvalid_0's auc: 0.62332\n",
      "[199]\tvalid_0's auc: 0.623336\n",
      "[200]\tvalid_0's auc: 0.623328\n"
     ]
    },
    {
     "ename": "NameError",
     "evalue": "name 'ypred_lgb' is not defined",
     "output_type": "error",
     "traceback": [
      "\u001b[1;31m---------------------------------------------------------------------------\u001b[0m",
      "\u001b[1;31mNameError\u001b[0m                                 Traceback (most recent call last)",
      "\u001b[1;32m<ipython-input-10-6364b4b7f154>\u001b[0m in \u001b[0;36m<module>\u001b[1;34m\u001b[0m\n\u001b[0;32m     18\u001b[0m                        early_stopping_rounds=5)\n\u001b[0;32m     19\u001b[0m \u001b[1;33m\u001b[0m\u001b[0m\n\u001b[1;32m---> 20\u001b[1;33m \u001b[0mpredictions_lgb\u001b[0m \u001b[1;33m=\u001b[0m \u001b[1;33m[\u001b[0m\u001b[0mround\u001b[0m\u001b[1;33m(\u001b[0m\u001b[0mvalue\u001b[0m\u001b[1;33m)\u001b[0m \u001b[1;32mfor\u001b[0m \u001b[0mvalue\u001b[0m \u001b[1;32min\u001b[0m \u001b[0mypred_lgb\u001b[0m\u001b[1;33m]\u001b[0m\u001b[1;33m\u001b[0m\u001b[1;33m\u001b[0m\u001b[0m\n\u001b[0m\u001b[0;32m     21\u001b[0m \u001b[1;32mfrom\u001b[0m \u001b[0msklearn\u001b[0m\u001b[1;33m.\u001b[0m\u001b[0mmetrics\u001b[0m \u001b[1;32mimport\u001b[0m \u001b[0maccuracy_score\u001b[0m\u001b[1;33m\u001b[0m\u001b[1;33m\u001b[0m\u001b[0m\n\u001b[0;32m     22\u001b[0m \u001b[1;32mfrom\u001b[0m \u001b[0msklearn\u001b[0m\u001b[1;33m.\u001b[0m\u001b[0mmetrics\u001b[0m \u001b[1;32mimport\u001b[0m \u001b[0mroc_auc_score\u001b[0m\u001b[1;33m\u001b[0m\u001b[1;33m\u001b[0m\u001b[0m\n",
      "\u001b[1;31mNameError\u001b[0m: name 'ypred_lgb' is not defined"
     ]
    }
   ],
   "source": [
    "import lightgbm as lgb\n",
    "\n",
    "dtrain = lgb.Dataset(X_train, label=y_train)\n",
    "dtest = lgb.Dataset(test[feature_cols], label=test['isFraud'])\n",
    "\n",
    "param = {'num_leaves': 180, \n",
    "         'max_bin': 64,\n",
    "         'objective': 'binary', \n",
    "         'learning_rate': 0.1,\n",
    "         'num_iterations': 200,\n",
    "         'metric': 'auc', \n",
    "         'boosting': 'dart',\n",
    "         'seed': 280}\n",
    "lgbm_model = lgb.train(param, \n",
    "                       dtrain, \n",
    "                       num_boost_round=100, \n",
    "                       valid_sets=[dtest], \n",
    "                       early_stopping_rounds=5)\n",
    "\n",
    "# save model\n",
    "import joblib\n",
    "\n",
    "joblib.dump(lgbm_model, 'lgb_count_cat_15s.pkl')"
   ]
  },
  {
   "cell_type": "markdown",
   "metadata": {},
   "source": [
    "### Train - Eval"
   ]
  },
  {
   "cell_type": "code",
   "execution_count": 12,
   "metadata": {},
   "outputs": [
    {
     "name": "stdout",
     "output_type": "stream",
     "text": [
      "accuracy:  58.61272332330716\n",
      "auc:  58.61272332330716\n",
      "precision_score:  59.933198662670826\n",
      "recall_score:  51.965945260133786\n"
     ]
    }
   ],
   "source": [
    "# Prediction - Rounding-off Probability\n",
    "\n",
    "ypred_lgb = lgbm_model.predict(X_train)\n",
    "predictions_lgb = [round(value) for value in ypred_lgb]\n",
    "from sklearn.metrics import accuracy_score\n",
    "from sklearn.metrics import roc_auc_score\n",
    "\n",
    "# evaluate predictions\n",
    "\n",
    "print(\"accuracy: \",accuracy_score(y_train,predictions_lgb)*100)\n",
    "print(\"auc: \",roc_auc_score(y_train,predictions_lgb)*100)\n",
    "print(\"precision_score: \",precision_score(y_train,predictions_lgb)*100)\n",
    "print(\"recall_score: \",recall_score(y_train,predictions_lgb)*100)"
   ]
  },
  {
   "cell_type": "markdown",
   "metadata": {},
   "source": [
    "### Test - Eval"
   ]
  },
  {
   "cell_type": "code",
   "execution_count": 13,
   "metadata": {},
   "outputs": [
    {
     "name": "stdout",
     "output_type": "stream",
     "text": [
      "accuracy:  64.40088042516282\n",
      "auc:  58.33659466295457\n",
      "precision_score:  6.137158371929478\n",
      "recall_score:  51.710080230215524\n"
     ]
    }
   ],
   "source": [
    "# Prediction - Rounding-off Probability\n",
    "ypred_lgb = lgbm_model.predict(test[feature_cols])\n",
    "predictions_lgb = [round(value) for value in ypred_lgb]\n",
    "from sklearn.metrics import accuracy_score\n",
    "from sklearn.metrics import roc_auc_score\n",
    "\n",
    "# evaluate predictions\n",
    "\n",
    "print(\"accuracy: \",accuracy_score(test['isFraud'],predictions_lgb)*100)\n",
    "print(\"auc: \",roc_auc_score(test['isFraud'],predictions_lgb)*100)\n",
    "print(\"precision_score: \",precision_score(test['isFraud'],predictions_lgb)*100)\n",
    "print(\"recall_score: \",recall_score(test['isFraud'],predictions_lgb)*100)"
   ]
  },
  {
   "cell_type": "markdown",
   "metadata": {},
   "source": [
    "### Checking Accuracy using a different decile threshold"
   ]
  },
  {
   "cell_type": "code",
   "execution_count": 15,
   "metadata": {},
   "outputs": [],
   "source": [
    "X_train['prediction']=lgbm_model.predict(X_train)\n",
    "X_train['decile'] = pd.qcut(X_train['prediction'], 10, labels=False)"
   ]
  },
  {
   "cell_type": "code",
   "execution_count": 32,
   "metadata": {},
   "outputs": [
    {
     "name": "stdout",
     "output_type": "stream",
     "text": [
      "accuracy:  78.655408082049\n",
      "auc:  57.38694861257535\n",
      "precision_score:  7.243137126664134\n",
      "recall_score:  34.14665962176243\n"
     ]
    }
   ],
   "source": [
    "# At top 2 Decile\n",
    "X_train['predict_fraud'] = np.where(X_train['decile']>=8, 1, 0)\n",
    "\n",
    "print(\"accuracy: \",accuracy_score(y_train,X_train['predict_fraud'])*100)\n",
    "print(\"auc: \",roc_auc_score(y_train,X_train['predict_fraud'])*100)\n",
    "print(\"precision_score: \",precision_score(y_train,X_train['predict_fraud'])*100)\n",
    "print(\"recall_score: \",recall_score(y_train,X_train['predict_fraud'])*100)"
   ]
  },
  {
   "cell_type": "code",
   "execution_count": null,
   "metadata": {},
   "outputs": [],
   "source": [
    "test['prediction']=lgbm_model.predict(test[feature_cols])\n",
    "test['decile'] = pd.qcut(test['prediction'], 10, labels=False)"
   ]
  },
  {
   "cell_type": "code",
   "execution_count": null,
   "metadata": {},
   "outputs": [],
   "source": [
    "# At top 2 Decile\n",
    "test['predict_fraud'] = np.where(test['decile']>=8, 1, 0)\n",
    "\n",
    "print(\"accuracy: \",accuracy_score(test['isFraud'],test['predict_fraud'])*100)\n",
    "print(\"auc: \",roc_auc_score(test['isFraud'],test['predict_fraud'])*100)\n",
    "print(\"precision_score: \",precision_score(test['isFraud'],test['predict_fraud'])*100)\n",
    "print(\"recall_score: \",recall_score(test['isFraud'],test['predict_fraud'])*100)"
   ]
  },
  {
   "cell_type": "markdown",
   "metadata": {},
   "source": [
    "## Profiling"
   ]
  },
  {
   "cell_type": "code",
   "execution_count": 33,
   "metadata": {},
   "outputs": [
    {
     "data": {
      "text/plain": [
       "<AxesSubplot:xlabel='predict_fraud', ylabel='count'>"
      ]
     },
     "execution_count": 33,
     "metadata": {},
     "output_type": "execute_result"
    },
    {
     "data": {
      "image/png": "[encoded data removed]",
      "text/plain": [
       "<Figure size 432x288 with 1 Axes>"
      ]
     },
     "metadata": {
      "needs_background": "light"
     },
     "output_type": "display_data"
    }
   ],
   "source": [
    "import seaborn as sns\n",
    "sns.countplot(x='predict_fraud', data=test)"
   ]
  },
  {
   "cell_type": "code",
   "execution_count": 34,
   "metadata": {},
   "outputs": [
    {
     "name": "stdout",
     "output_type": "stream",
     "text": [
      "Plot feature importances...\n"
     ]
    },
    {
     "data": {
      "image/png": "[encoded data removed]",
      "text/plain": [
       "<Figure size 432x288 with 1 Axes>"
      ]
     },
     "metadata": {
      "needs_background": "light"
     },
     "output_type": "display_data"
    }
   ],
   "source": [
    "print('Plot feature importances...')\n",
    "ax = lgb.plot_importance(lgbm_model, max_num_features=15)\n",
    "plt.show()"
   ]
  },
  {
   "cell_type": "code",
   "execution_count": null,
   "metadata": {},
   "outputs": [],
   "source": [
    "feature_cols = ['ip_count', 'app_count', 'device_count','os_count', 'channel_count',\n",
    "               'ip_cb', 'app_cb', 'device_cb','os_cb', 'channel_cb']"
   ]
  },
  {
   "cell_type": "code",
   "execution_count": 47,
   "metadata": {},
   "outputs": [],
   "source": [
    "profile_df = test.groupby('predict_fraud').agg({'ip_cb': ['mean'],\n",
    "                                               'app_cb': ['mean'],\n",
    "                                               'os_cb': ['mean'],\n",
    "                                               'device_cb': ['mean'],\n",
    "                                               'channel_cb': ['mean'],\n",
    "                                               'ip_count': ['mean'],\n",
    "                                               'app_count': ['mean'],\n",
    "                                               'os_count': ['mean'],\n",
    "                                               'device_count': ['mean'],\n",
    "                                               'channel_count': ['mean']\n",
    "                                               })\n",
    "\n",
    "# rename columns\n",
    "profile_df.columns = ['ip_cb', 'app_cb', 'device_cb','os_cb', 'channel_cb','ip_count', 'app_count', 'device_count','os_count', 'channel_count']\n",
    "\n",
    "# reset index to get grouped columns back\n",
    "profile_df = profile_df.reset_index()\n",
    "\n"
   ]
  },
  {
   "cell_type": "code",
   "execution_count": 48,
   "metadata": {},
   "outputs": [
    {
     "data": {
      "image/png": "[encoded data removed]",
      "text/plain": [
       "<Figure size 432x288 with 1 Axes>"
      ]
     },
     "metadata": {},
     "output_type": "display_data"
    }
   ],
   "source": [
    "# Set Seaborn style\n",
    "sns.set_style('darkgrid')\n",
    "\n",
    "\n",
    "# Construct plot\n",
    "sns.barplot(x = \"predict_fraud\", y = \"ip_cb\", data = profile_df)\n",
    "plt.show()"
   ]
  },
  {
   "cell_type": "code",
   "execution_count": 49,
   "metadata": {},
   "outputs": [
    {
     "data": {
      "image/png": "[encoded data removed]",
      "text/plain": [
       "<Figure size 432x288 with 1 Axes>"
      ]
     },
     "metadata": {},
     "output_type": "display_data"
    }
   ],
   "source": [
    "# Set Seaborn style\n",
    "sns.set_style('darkgrid')\n",
    "\n",
    "\n",
    "# Construct plot\n",
    "sns.barplot(x = \"predict_fraud\", y = \"app_cb\", data = profile_df)\n",
    "plt.show()"
   ]
  },
  {
   "cell_type": "code",
   "execution_count": 50,
   "metadata": {},
   "outputs": [
    {
     "data": {
      "image/png": "[encoded data removed]",
      "text/plain": [
       "<Figure size 432x288 with 1 Axes>"
      ]
     },
     "metadata": {},
     "output_type": "display_data"
    }
   ],
   "source": [
    "# Set Seaborn style\n",
    "sns.set_style('darkgrid')\n",
    "\n",
    "\n",
    "# Construct plot\n",
    "sns.barplot(x = \"predict_fraud\", y = \"device_cb\", data = profile_df)\n",
    "plt.show()"
   ]
  },
  {
   "cell_type": "code",
   "execution_count": 51,
   "metadata": {},
   "outputs": [
    {
     "data": {
      "image/png": "[encoded data removed]",
      "text/plain": [
       "<Figure size 432x288 with 1 Axes>"
      ]
     },
     "metadata": {},
     "output_type": "display_data"
    }
   ],
   "source": [
    "# Set Seaborn style\n",
    "sns.set_style('darkgrid')\n",
    "\n",
    "\n",
    "# Construct plot\n",
    "sns.barplot(x = \"predict_fraud\", y = \"os_cb\", data = profile_df)\n",
    "plt.show()"
   ]
  },
  {
   "cell_type": "code",
   "execution_count": 52,
   "metadata": {},
   "outputs": [
    {
     "data": {
      "image/png": "[encoded data removed]",
      "text/plain": [
       "<Figure size 432x288 with 1 Axes>"
      ]
     },
     "metadata": {},
     "output_type": "display_data"
    }
   ],
   "source": [
    "# Set Seaborn style\n",
    "sns.set_style('darkgrid')\n",
    "\n",
    "\n",
    "# Construct plot\n",
    "sns.barplot(x = \"predict_fraud\", y = \"channel_cb\", data = profile_df)\n",
    "plt.show()"
   ]
  },
  {
   "cell_type": "code",
   "execution_count": 53,
   "metadata": {},
   "outputs": [
    {
     "data": {
      "image/png": "[encoded data removed]",
      "text/plain": [
       "<Figure size 432x288 with 1 Axes>"
      ]
     },
     "metadata": {},
     "output_type": "display_data"
    }
   ],
   "source": [
    "# Set Seaborn style\n",
    "sns.set_style('darkgrid')\n",
    "\n",
    "\n",
    "# Construct plot\n",
    "sns.barplot(x = \"predict_fraud\", y = \"ip_count\", data = profile_df)\n",
    "plt.show()"
   ]
  },
  {
   "cell_type": "code",
   "execution_count": 54,
   "metadata": {},
   "outputs": [
    {
     "data": {
      "image/png": "[encoded data removed]",
      "text/plain": [
       "<Figure size 432x288 with 1 Axes>"
      ]
     },
     "metadata": {},
     "output_type": "display_data"
    }
   ],
   "source": [
    "# Set Seaborn style\n",
    "sns.set_style('darkgrid')\n",
    "\n",
    "\n",
    "# Construct plot\n",
    "sns.barplot(x = \"predict_fraud\", y = \"app_count\", data = profile_df)\n",
    "plt.show()"
   ]
  },
  {
   "cell_type": "code",
   "execution_count": 55,
   "metadata": {},
   "outputs": [
    {
     "data": {
      "image/png": "[encoded data removed]",
      "text/plain": [
       "<Figure size 432x288 with 1 Axes>"
      ]
     },
     "metadata": {},
     "output_type": "display_data"
    }
   ],
   "source": [
    "# Set Seaborn style\n",
    "sns.set_style('darkgrid')\n",
    "\n",
    "\n",
    "# Construct plot\n",
    "sns.barplot(x = \"predict_fraud\", y = \"device_count\", data = profile_df)\n",
    "plt.show()"
   ]
  },
  {
   "cell_type": "code",
   "execution_count": 56,
   "metadata": {},
   "outputs": [
    {
     "data": {
      "image/png": "[encoded data removed]",
      "text/plain": [
       "<Figure size 432x288 with 1 Axes>"
      ]
     },
     "metadata": {},
     "output_type": "display_data"
    }
   ],
   "source": [
    "# Set Seaborn style\n",
    "sns.set_style('darkgrid')\n",
    "\n",
    "\n",
    "# Construct plot\n",
    "sns.barplot(x = \"predict_fraud\", y = \"channel_count\", data = profile_df)\n",
    "plt.show()"
   ]
  },
  {
   "cell_type": "markdown",
   "metadata": {},
   "source": [
    "## Model Explainer - SHAP"
   ]
  },
  {
   "cell_type": "code",
   "execution_count": null,
   "metadata": {},
   "outputs": [],
   "source": [
    "import joblib\n",
    "lgbm_model = joblib.load('lgb_count_cat_15s.pkl')\n",
    "\n",
    "feature_cols = ['ip_count', 'app_count', 'device_count','os_count', 'channel_count',\n",
    "               'ip_cb', 'app_cb', 'device_cb','os_cb', 'channel_cb']\n",
    "\n",
    "X_train = X_train[feature_cols]\n",
    "X_test = test[feature_cols]"
   ]
  },
  {
   "cell_type": "code",
   "execution_count": null,
   "metadata": {},
   "outputs": [],
   "source": [
    "X_train"
   ]
  },
  {
   "cell_type": "code",
   "execution_count": null,
   "metadata": {},
   "outputs": [],
   "source": [
    "import shap\n",
    "\n",
    "%time shap_values = shap.TreeExplainer(lgbm_model).shap_values(X_test)\n"
   ]
  },
  {
   "cell_type": "code",
   "execution_count": null,
   "metadata": {},
   "outputs": [],
   "source": [
    "shap.summary_plot(shap_values, valid_x)\n"
   ]
  }
 ],
 "metadata": {
  "kernelspec": {
   "display_name": "Python 3",
   "language": "python",
   "name": "python3"
  },
  "language_info": {
   "codemirror_mode": {
    "name": "ipython",
    "version": 3
   },
   "file_extension": ".py",
   "mimetype": "text/x-python",
   "name": "python",
   "nbconvert_exporter": "python",
   "pygments_lexer": "ipython3",
   "version": "3.8.5"
  }
 },
 "nbformat": 4,
 "nbformat_minor": 5
}
